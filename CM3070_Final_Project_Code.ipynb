{
  "nbformat": 4,
  "nbformat_minor": 0,
  "metadata": {
    "colab": {
      "provenance": []
    },
    "kernelspec": {
      "name": "python3",
      "display_name": "Python 3"
    },
    "language_info": {
      "name": "python"
    },
    "accelerator": "GPU",
    "gpuClass": "standard"
  },
  "cells": [
    {
      "cell_type": "markdown",
      "source": [
        "# UoL CM3070 Final Project\n",
        "## Machine Learning and Neural Networks Template 1: Deep Learning on a Public Dataset\n",
        "#### Authored by: Mason Burton\n",
        "April 2022 Session\n",
        "\n",
        "This code contained within this Jupyter notebook accompanies a final report submitted to the university.\n",
        "\n",
        "Parts of this code has been reused and modified from CM3015 lectures and my own coursework, as well as the \"Deep Learning with Python\" textbook authored by François Chollet. These code snippets will be labeled and referenced as such.**bold text**"
      ],
      "metadata": {
        "id": "BgBm9P2ip1_B"
      }
    },
    {
      "cell_type": "markdown",
      "source": [
        "## Load and preprocess dataset"
      ],
      "metadata": {
        "id": "FfdK5pGOGDUN"
      }
    },
    {
      "cell_type": "code",
      "source": [
        "# imports\n",
        "from tensorflow import keras\n",
        "from tensorflow.keras import layers\n",
        "from tensorflow.keras.utils import image_dataset_from_directory\n",
        "\n",
        "import matplotlib.pyplot as plt\n",
        "import pandas as pd"
      ],
      "metadata": {
        "id": "g9DhdAf69gda"
      },
      "execution_count": 1,
      "outputs": []
    },
    {
      "cell_type": "code",
      "source": [
        "# build training set\n",
        "train_set = image_dataset_from_directory(\n",
        "    '/content/dice/train',\n",
        "    image_size=(120, 120),\n",
        "    batch_size=32,\n",
        "    validation_split=0.2,\n",
        "    subset='training',\n",
        "    label_mode='categorical',\n",
        "    seed=37842\n",
        ")"
      ],
      "metadata": {
        "colab": {
          "base_uri": "https://localhost:8080/"
        },
        "id": "zqgZIeRuHLkq",
        "outputId": "bfc374b9-ce49-46d2-cd2c-3857d780f3c7"
      },
      "execution_count": 2,
      "outputs": [
        {
          "output_type": "stream",
          "name": "stdout",
          "text": [
            "Found 14284 files belonging to 6 classes.\n",
            "Using 11428 files for training.\n"
          ]
        }
      ]
    },
    {
      "cell_type": "code",
      "source": [
        "# build validation set\n",
        "validation_set = image_dataset_from_directory(\n",
        "    '/content/dice/train',\n",
        "    image_size=(120, 120),\n",
        "    batch_size=32,\n",
        "    validation_split=0.2,\n",
        "    subset='validation',\n",
        "    label_mode='categorical',\n",
        "    seed=37842\n",
        ")"
      ],
      "metadata": {
        "colab": {
          "base_uri": "https://localhost:8080/"
        },
        "id": "rAM52g-SHo5y",
        "outputId": "0a8c18c3-9de2-4eaf-fdae-bb230ffc8d00"
      },
      "execution_count": 3,
      "outputs": [
        {
          "output_type": "stream",
          "name": "stdout",
          "text": [
            "Found 14284 files belonging to 6 classes.\n",
            "Using 2856 files for validation.\n"
          ]
        }
      ]
    },
    {
      "cell_type": "code",
      "source": [
        "# build test set\n",
        "test_set =  image_dataset_from_directory(\n",
        "    '/content/dice/valid',\n",
        "    image_size=(120, 120),\n",
        "    batch_size=32,\n",
        "    label_mode='categorical',\n",
        ")"
      ],
      "metadata": {
        "colab": {
          "base_uri": "https://localhost:8080/"
        },
        "id": "ERzDtH_xH9jh",
        "outputId": "920e3665-8a13-4352-a4b9-0ce378a47616"
      },
      "execution_count": 4,
      "outputs": [
        {
          "output_type": "stream",
          "name": "stdout",
          "text": [
            "Found 2102 files belonging to 6 classes.\n"
          ]
        }
      ]
    },
    {
      "cell_type": "markdown",
      "source": [
        "## Helper Functions"
      ],
      "metadata": {
        "id": "L_IkBSYrVCiS"
      }
    },
    {
      "cell_type": "code",
      "source": [
        "# Helper function to plot training and validation accuracy and loss\n",
        "# code reused and modified from lecture, and Deep Learning with Python textbook by François Chollet\n",
        "def plot_val(history):\n",
        "  accuracy = history.history['accuracy']\n",
        "  val_accuracy = history.history['val_accuracy']\n",
        "  loss = history.history['loss']\n",
        "  val_loss = history.history['val_loss']\n",
        "  epochs = range(1, len(accuracy) + 1)\n",
        "  plt.subplots(1, 2, figsize=(12,4)) # split into horizontally stacked subplots\n",
        "  plt.subplot(1, 2, 1)\n",
        "  plt.plot(epochs, accuracy, 'bo', label='Training accuracy')\n",
        "  plt.plot(epochs, val_accuracy, 'b', label='Validation accuracy')\n",
        "  plt.title('Training and Validation Accuracy')\n",
        "  plt.xlabel('Epochs')\n",
        "  plt.ylabel('Accuracy')\n",
        "  plt.legend()\n",
        "  plt.subplot(1, 2, 2)\n",
        "  plt.plot(epochs, loss, 'bo', label='Training loss')\n",
        "  plt.plot(epochs, val_loss, 'b', label='Validation loss')\n",
        "  plt.title('Training and Validation Loss')\n",
        "  plt.ylabel('Loss')\n",
        "  plt.legend()\n",
        "  plt.tight_layout()\n",
        "  plt.show()"
      ],
      "metadata": {
        "id": "9Wr_5opZVB5c"
      },
      "execution_count": 5,
      "outputs": []
    },
    {
      "cell_type": "code",
      "source": [
        "# Helper functions to draw useful dataframes\n",
        "# code reused and modified from my own previous coursework\n",
        "def hist_df(history):\n",
        "  return pd.DataFrame(history.history)\n",
        "\n",
        "def train_mean_df(history):\n",
        "  return pd.DataFrame(hist_df(history).mean(), columns=['Value']).style.set_caption('Training Mean')\n",
        "\n",
        "def eval_df(test):\n",
        "  return pd.DataFrame(test, index=['loss', 'accuracy'], columns=['Value']).style.set_caption('Testing Metrics')"
      ],
      "metadata": {
        "id": "td9a2gdYYKZI"
      },
      "execution_count": 6,
      "outputs": []
    },
    {
      "cell_type": "markdown",
      "source": [
        "## Baseline model to achieve statistical power"
      ],
      "metadata": {
        "id": "E2wUB32ER_H7"
      }
    },
    {
      "cell_type": "code",
      "source": [
        "# set a default number of epochs to run all models for\n",
        "default_epochs = 10"
      ],
      "metadata": {
        "id": "2HcEsxW3fYZW"
      },
      "execution_count": 7,
      "outputs": []
    },
    {
      "cell_type": "code",
      "source": [
        "# build the model using Sequential API\n",
        "model_baseline = keras.Sequential([\n",
        "    layers.Flatten(),\n",
        "    layers.Dense(64, activation='relu'),\n",
        "    layers.Dense(6, activation='softmax')\n",
        "])"
      ],
      "metadata": {
        "id": "7sBaKJiqKTqC"
      },
      "execution_count": 8,
      "outputs": []
    },
    {
      "cell_type": "code",
      "source": [
        "# compile model using appropriate loss function and optimizer\n",
        "model_baseline.compile(\n",
        "    optimizer='rmsprop',\n",
        "    loss='categorical_crossentropy',\n",
        "    metrics=['accuracy']\n",
        ")"
      ],
      "metadata": {
        "id": "l7rR10qeLyHx"
      },
      "execution_count": 9,
      "outputs": []
    },
    {
      "cell_type": "code",
      "source": [
        "# train model\n",
        "history_baseline = model_baseline.fit(train_set, epochs=default_epochs, validation_data=validation_set)"
      ],
      "metadata": {
        "colab": {
          "base_uri": "https://localhost:8080/"
        },
        "id": "TJRNFwtwMXCu",
        "outputId": "7f17cbc3-b44e-4413-cf59-d3635b32ec69"
      },
      "execution_count": 10,
      "outputs": [
        {
          "output_type": "stream",
          "name": "stdout",
          "text": [
            "Epoch 1/10\n",
            "358/358 [==============================] - 25s 57ms/step - loss: 2430.8130 - accuracy: 0.2068 - val_loss: 1.7620 - val_accuracy: 0.2791\n",
            "Epoch 2/10\n",
            "358/358 [==============================] - 16s 44ms/step - loss: 11.3173 - accuracy: 0.2843 - val_loss: 1.7260 - val_accuracy: 0.2791\n",
            "Epoch 3/10\n",
            "358/358 [==============================] - 16s 43ms/step - loss: 1.7213 - accuracy: 0.2843 - val_loss: 1.7174 - val_accuracy: 0.2791\n",
            "Epoch 4/10\n",
            "358/358 [==============================] - 16s 43ms/step - loss: 1.7171 - accuracy: 0.2843 - val_loss: 1.7161 - val_accuracy: 0.2791\n",
            "Epoch 5/10\n",
            "358/358 [==============================] - 17s 45ms/step - loss: 1.7164 - accuracy: 0.2843 - val_loss: 1.7158 - val_accuracy: 0.2791\n",
            "Epoch 6/10\n",
            "358/358 [==============================] - 16s 43ms/step - loss: 1.7163 - accuracy: 0.2843 - val_loss: 1.7157 - val_accuracy: 0.2791\n",
            "Epoch 7/10\n",
            "358/358 [==============================] - 16s 43ms/step - loss: 1.7163 - accuracy: 0.2843 - val_loss: 1.7157 - val_accuracy: 0.2791\n",
            "Epoch 8/10\n",
            "358/358 [==============================] - 16s 44ms/step - loss: 1.7163 - accuracy: 0.2843 - val_loss: 1.7156 - val_accuracy: 0.2791\n",
            "Epoch 9/10\n",
            "358/358 [==============================] - 16s 44ms/step - loss: 1.7163 - accuracy: 0.2843 - val_loss: 1.7156 - val_accuracy: 0.2791\n",
            "Epoch 10/10\n",
            "358/358 [==============================] - 16s 43ms/step - loss: 1.7163 - accuracy: 0.2843 - val_loss: 1.7157 - val_accuracy: 0.2791\n"
          ]
        }
      ]
    },
    {
      "cell_type": "code",
      "source": [
        "# display training metrics\n",
        "hist_df(history_baseline)"
      ],
      "metadata": {
        "colab": {
          "base_uri": "https://localhost:8080/",
          "height": 363
        },
        "id": "Uc-pBR1qZXPZ",
        "outputId": "d61f10c8-2b25-481e-e733-47674893577f"
      },
      "execution_count": 11,
      "outputs": [
        {
          "output_type": "execute_result",
          "data": {
            "text/plain": [
              "          loss  accuracy  val_loss  val_accuracy\n",
              "0  2430.812988  0.206773  1.762041      0.279062\n",
              "1    11.317337  0.284302  1.726027      0.279062\n",
              "2     1.721292  0.284302  1.717409      0.279062\n",
              "3     1.717102  0.284302  1.716057      0.279062\n",
              "4     1.716408  0.284302  1.715780      0.279062\n",
              "5     1.716325  0.284302  1.715672      0.279062\n",
              "6     1.716296  0.284302  1.715660      0.279062\n",
              "7     1.716307  0.284302  1.715619      0.279062\n",
              "8     1.716318  0.284302  1.715608      0.279062\n",
              "9     1.716300  0.284302  1.715702      0.279062"
            ],
            "text/html": [
              "\n",
              "  <div id=\"df-cfdd5e34-6396-474a-97fc-aa81c3906311\">\n",
              "    <div class=\"colab-df-container\">\n",
              "      <div>\n",
              "<style scoped>\n",
              "    .dataframe tbody tr th:only-of-type {\n",
              "        vertical-align: middle;\n",
              "    }\n",
              "\n",
              "    .dataframe tbody tr th {\n",
              "        vertical-align: top;\n",
              "    }\n",
              "\n",
              "    .dataframe thead th {\n",
              "        text-align: right;\n",
              "    }\n",
              "</style>\n",
              "<table border=\"1\" class=\"dataframe\">\n",
              "  <thead>\n",
              "    <tr style=\"text-align: right;\">\n",
              "      <th></th>\n",
              "      <th>loss</th>\n",
              "      <th>accuracy</th>\n",
              "      <th>val_loss</th>\n",
              "      <th>val_accuracy</th>\n",
              "    </tr>\n",
              "  </thead>\n",
              "  <tbody>\n",
              "    <tr>\n",
              "      <th>0</th>\n",
              "      <td>2430.812988</td>\n",
              "      <td>0.206773</td>\n",
              "      <td>1.762041</td>\n",
              "      <td>0.279062</td>\n",
              "    </tr>\n",
              "    <tr>\n",
              "      <th>1</th>\n",
              "      <td>11.317337</td>\n",
              "      <td>0.284302</td>\n",
              "      <td>1.726027</td>\n",
              "      <td>0.279062</td>\n",
              "    </tr>\n",
              "    <tr>\n",
              "      <th>2</th>\n",
              "      <td>1.721292</td>\n",
              "      <td>0.284302</td>\n",
              "      <td>1.717409</td>\n",
              "      <td>0.279062</td>\n",
              "    </tr>\n",
              "    <tr>\n",
              "      <th>3</th>\n",
              "      <td>1.717102</td>\n",
              "      <td>0.284302</td>\n",
              "      <td>1.716057</td>\n",
              "      <td>0.279062</td>\n",
              "    </tr>\n",
              "    <tr>\n",
              "      <th>4</th>\n",
              "      <td>1.716408</td>\n",
              "      <td>0.284302</td>\n",
              "      <td>1.715780</td>\n",
              "      <td>0.279062</td>\n",
              "    </tr>\n",
              "    <tr>\n",
              "      <th>5</th>\n",
              "      <td>1.716325</td>\n",
              "      <td>0.284302</td>\n",
              "      <td>1.715672</td>\n",
              "      <td>0.279062</td>\n",
              "    </tr>\n",
              "    <tr>\n",
              "      <th>6</th>\n",
              "      <td>1.716296</td>\n",
              "      <td>0.284302</td>\n",
              "      <td>1.715660</td>\n",
              "      <td>0.279062</td>\n",
              "    </tr>\n",
              "    <tr>\n",
              "      <th>7</th>\n",
              "      <td>1.716307</td>\n",
              "      <td>0.284302</td>\n",
              "      <td>1.715619</td>\n",
              "      <td>0.279062</td>\n",
              "    </tr>\n",
              "    <tr>\n",
              "      <th>8</th>\n",
              "      <td>1.716318</td>\n",
              "      <td>0.284302</td>\n",
              "      <td>1.715608</td>\n",
              "      <td>0.279062</td>\n",
              "    </tr>\n",
              "    <tr>\n",
              "      <th>9</th>\n",
              "      <td>1.716300</td>\n",
              "      <td>0.284302</td>\n",
              "      <td>1.715702</td>\n",
              "      <td>0.279062</td>\n",
              "    </tr>\n",
              "  </tbody>\n",
              "</table>\n",
              "</div>\n",
              "      <button class=\"colab-df-convert\" onclick=\"convertToInteractive('df-cfdd5e34-6396-474a-97fc-aa81c3906311')\"\n",
              "              title=\"Convert this dataframe to an interactive table.\"\n",
              "              style=\"display:none;\">\n",
              "        \n",
              "  <svg xmlns=\"http://www.w3.org/2000/svg\" height=\"24px\"viewBox=\"0 0 24 24\"\n",
              "       width=\"24px\">\n",
              "    <path d=\"M0 0h24v24H0V0z\" fill=\"none\"/>\n",
              "    <path d=\"M18.56 5.44l.94 2.06.94-2.06 2.06-.94-2.06-.94-.94-2.06-.94 2.06-2.06.94zm-11 1L8.5 8.5l.94-2.06 2.06-.94-2.06-.94L8.5 2.5l-.94 2.06-2.06.94zm10 10l.94 2.06.94-2.06 2.06-.94-2.06-.94-.94-2.06-.94 2.06-2.06.94z\"/><path d=\"M17.41 7.96l-1.37-1.37c-.4-.4-.92-.59-1.43-.59-.52 0-1.04.2-1.43.59L10.3 9.45l-7.72 7.72c-.78.78-.78 2.05 0 2.83L4 21.41c.39.39.9.59 1.41.59.51 0 1.02-.2 1.41-.59l7.78-7.78 2.81-2.81c.8-.78.8-2.07 0-2.86zM5.41 20L4 18.59l7.72-7.72 1.47 1.35L5.41 20z\"/>\n",
              "  </svg>\n",
              "      </button>\n",
              "      \n",
              "  <style>\n",
              "    .colab-df-container {\n",
              "      display:flex;\n",
              "      flex-wrap:wrap;\n",
              "      gap: 12px;\n",
              "    }\n",
              "\n",
              "    .colab-df-convert {\n",
              "      background-color: #E8F0FE;\n",
              "      border: none;\n",
              "      border-radius: 50%;\n",
              "      cursor: pointer;\n",
              "      display: none;\n",
              "      fill: #1967D2;\n",
              "      height: 32px;\n",
              "      padding: 0 0 0 0;\n",
              "      width: 32px;\n",
              "    }\n",
              "\n",
              "    .colab-df-convert:hover {\n",
              "      background-color: #E2EBFA;\n",
              "      box-shadow: 0px 1px 2px rgba(60, 64, 67, 0.3), 0px 1px 3px 1px rgba(60, 64, 67, 0.15);\n",
              "      fill: #174EA6;\n",
              "    }\n",
              "\n",
              "    [theme=dark] .colab-df-convert {\n",
              "      background-color: #3B4455;\n",
              "      fill: #D2E3FC;\n",
              "    }\n",
              "\n",
              "    [theme=dark] .colab-df-convert:hover {\n",
              "      background-color: #434B5C;\n",
              "      box-shadow: 0px 1px 3px 1px rgba(0, 0, 0, 0.15);\n",
              "      filter: drop-shadow(0px 1px 2px rgba(0, 0, 0, 0.3));\n",
              "      fill: #FFFFFF;\n",
              "    }\n",
              "  </style>\n",
              "\n",
              "      <script>\n",
              "        const buttonEl =\n",
              "          document.querySelector('#df-cfdd5e34-6396-474a-97fc-aa81c3906311 button.colab-df-convert');\n",
              "        buttonEl.style.display =\n",
              "          google.colab.kernel.accessAllowed ? 'block' : 'none';\n",
              "\n",
              "        async function convertToInteractive(key) {\n",
              "          const element = document.querySelector('#df-cfdd5e34-6396-474a-97fc-aa81c3906311');\n",
              "          const dataTable =\n",
              "            await google.colab.kernel.invokeFunction('convertToInteractive',\n",
              "                                                     [key], {});\n",
              "          if (!dataTable) return;\n",
              "\n",
              "          const docLinkHtml = 'Like what you see? Visit the ' +\n",
              "            '<a target=\"_blank\" href=https://colab.research.google.com/notebooks/data_table.ipynb>data table notebook</a>'\n",
              "            + ' to learn more about interactive tables.';\n",
              "          element.innerHTML = '';\n",
              "          dataTable['output_type'] = 'display_data';\n",
              "          await google.colab.output.renderOutput(dataTable, element);\n",
              "          const docLink = document.createElement('div');\n",
              "          docLink.innerHTML = docLinkHtml;\n",
              "          element.appendChild(docLink);\n",
              "        }\n",
              "      </script>\n",
              "    </div>\n",
              "  </div>\n",
              "  "
            ]
          },
          "metadata": {},
          "execution_count": 11
        }
      ]
    },
    {
      "cell_type": "code",
      "source": [
        "# display training mean values\n",
        "train_mean_df(history_baseline)"
      ],
      "metadata": {
        "colab": {
          "base_uri": "https://localhost:8080/",
          "height": 192
        },
        "id": "44rvwlY6Zd1_",
        "outputId": "dea80f58-08d2-471e-8c43-d5314609178f"
      },
      "execution_count": 12,
      "outputs": [
        {
          "output_type": "execute_result",
          "data": {
            "text/plain": [
              "<pandas.io.formats.style.Styler at 0x7f5902190cd0>"
            ],
            "text/html": [
              "<style type=\"text/css\">\n",
              "</style>\n",
              "<table id=\"T_11b79_\" class=\"dataframe\">\n",
              "  <caption>Training Mean</caption>\n",
              "  <thead>\n",
              "    <tr>\n",
              "      <th class=\"blank level0\" >&nbsp;</th>\n",
              "      <th class=\"col_heading level0 col0\" >Value</th>\n",
              "    </tr>\n",
              "  </thead>\n",
              "  <tbody>\n",
              "    <tr>\n",
              "      <th id=\"T_11b79_level0_row0\" class=\"row_heading level0 row0\" >loss</th>\n",
              "      <td id=\"T_11b79_row0_col0\" class=\"data row0 col0\" >245.586667</td>\n",
              "    </tr>\n",
              "    <tr>\n",
              "      <th id=\"T_11b79_level0_row1\" class=\"row_heading level0 row1\" >accuracy</th>\n",
              "      <td id=\"T_11b79_row1_col0\" class=\"data row1 col0\" >0.276549</td>\n",
              "    </tr>\n",
              "    <tr>\n",
              "      <th id=\"T_11b79_level0_row2\" class=\"row_heading level0 row2\" >val_loss</th>\n",
              "      <td id=\"T_11b79_row2_col0\" class=\"data row2 col0\" >1.721557</td>\n",
              "    </tr>\n",
              "    <tr>\n",
              "      <th id=\"T_11b79_level0_row3\" class=\"row_heading level0 row3\" >val_accuracy</th>\n",
              "      <td id=\"T_11b79_row3_col0\" class=\"data row3 col0\" >0.279062</td>\n",
              "    </tr>\n",
              "  </tbody>\n",
              "</table>\n"
            ]
          },
          "metadata": {},
          "execution_count": 12
        }
      ]
    },
    {
      "cell_type": "code",
      "source": [
        "# plot validation loss and accuracy to determine if model overfits\n",
        "plot_val(history_baseline)"
      ],
      "metadata": {
        "colab": {
          "base_uri": "https://localhost:8080/",
          "height": 297
        },
        "id": "p5n4JD07ZlxQ",
        "outputId": "074fb1fe-e376-4689-9fe9-dd01310af68d"
      },
      "execution_count": 13,
      "outputs": [
        {
          "output_type": "display_data",
          "data": {
            "text/plain": [
              "<Figure size 864x288 with 2 Axes>"
            ],
            "image/png": "[encoded data removed]"
          },
          "metadata": {
            "needs_background": "light"
          }
        }
      ]
    },
    {
      "cell_type": "code",
      "source": [
        "# evaluate model against testing samples\n",
        "eval_baseline = model_baseline.evaluate(test_set)"
      ],
      "metadata": {
        "id": "8i64M-z8MuHB",
        "colab": {
          "base_uri": "https://localhost:8080/"
        },
        "outputId": "92aea84b-b3d7-4b8e-dd29-045211d8c173"
      },
      "execution_count": 14,
      "outputs": [
        {
          "output_type": "stream",
          "name": "stdout",
          "text": [
            "66/66 [==============================] - 2s 33ms/step - loss: 1.7049 - accuracy: 0.2878\n"
          ]
        }
      ]
    },
    {
      "cell_type": "code",
      "source": [
        "# display testing metrics in dataframe\n",
        "eval_df(eval_baseline)"
      ],
      "metadata": {
        "colab": {
          "base_uri": "https://localhost:8080/",
          "height": 129
        },
        "id": "z05E-P-9cgMb",
        "outputId": "3d81d28c-b625-4f22-e1e3-4019e30c5da1"
      },
      "execution_count": 15,
      "outputs": [
        {
          "output_type": "execute_result",
          "data": {
            "text/plain": [
              "<pandas.io.formats.style.Styler at 0x7f58ed093950>"
            ],
            "text/html": [
              "<style type=\"text/css\">\n",
              "</style>\n",
              "<table id=\"T_b3643_\" class=\"dataframe\">\n",
              "  <caption>Testing Metrics</caption>\n",
              "  <thead>\n",
              "    <tr>\n",
              "      <th class=\"blank level0\" >&nbsp;</th>\n",
              "      <th class=\"col_heading level0 col0\" >Value</th>\n",
              "    </tr>\n",
              "  </thead>\n",
              "  <tbody>\n",
              "    <tr>\n",
              "      <th id=\"T_b3643_level0_row0\" class=\"row_heading level0 row0\" >loss</th>\n",
              "      <td id=\"T_b3643_row0_col0\" class=\"data row0 col0\" >1.704889</td>\n",
              "    </tr>\n",
              "    <tr>\n",
              "      <th id=\"T_b3643_level0_row1\" class=\"row_heading level0 row1\" >accuracy</th>\n",
              "      <td id=\"T_b3643_row1_col0\" class=\"data row1 col0\" >0.287821</td>\n",
              "    </tr>\n",
              "  </tbody>\n",
              "</table>\n"
            ]
          },
          "metadata": {},
          "execution_count": 15
        }
      ]
    },
    {
      "cell_type": "markdown",
      "source": [
        "## Second baseline model; increase Dense layer units (output size) to try and reduce loss"
      ],
      "metadata": {
        "id": "lOd2nLl7SKa5"
      }
    },
    {
      "cell_type": "code",
      "source": [
        "model_baseline2 = keras.Sequential([\n",
        "    layers.Flatten(),\n",
        "    layers.Dense(512, activation='relu'),\n",
        "    layers.Dense(6, activation='softmax')\n",
        "])\n",
        "\n",
        "model_baseline2.compile(\n",
        "    optimizer='rmsprop',\n",
        "    loss='categorical_crossentropy',\n",
        "    metrics=['accuracy']\n",
        ")\n",
        "\n",
        "history_baseline2 = model_baseline2.fit(train_set, epochs=default_epochs, validation_data=validation_set)"
      ],
      "metadata": {
        "colab": {
          "base_uri": "https://localhost:8080/"
        },
        "id": "iSBM5J7yQdEq",
        "outputId": "9ff6e81f-d5b7-44f3-f7f7-888000dd4366"
      },
      "execution_count": 16,
      "outputs": [
        {
          "output_type": "stream",
          "name": "stdout",
          "text": [
            "Epoch 1/10\n",
            "358/358 [==============================] - 18s 48ms/step - loss: 7000.3281 - accuracy: 0.2330 - val_loss: 3414.7395 - val_accuracy: 0.2864\n",
            "Epoch 2/10\n",
            "358/358 [==============================] - 18s 48ms/step - loss: 2009.4996 - accuracy: 0.2881 - val_loss: 1326.6552 - val_accuracy: 0.3547\n",
            "Epoch 3/10\n",
            "358/358 [==============================] - 18s 49ms/step - loss: 1027.1172 - accuracy: 0.3056 - val_loss: 985.1163 - val_accuracy: 0.2017\n",
            "Epoch 4/10\n",
            "358/358 [==============================] - 17s 48ms/step - loss: 696.0814 - accuracy: 0.3245 - val_loss: 556.7521 - val_accuracy: 0.3092\n",
            "Epoch 5/10\n",
            "358/358 [==============================] - 17s 48ms/step - loss: 438.4156 - accuracy: 0.3576 - val_loss: 293.9461 - val_accuracy: 0.3901\n",
            "Epoch 6/10\n",
            "358/358 [==============================] - 17s 48ms/step - loss: 135.8054 - accuracy: 0.3108 - val_loss: 1.7739 - val_accuracy: 0.2391\n",
            "Epoch 7/10\n",
            "358/358 [==============================] - 17s 48ms/step - loss: 1.7473 - accuracy: 0.2603 - val_loss: 1.7283 - val_accuracy: 0.2791\n",
            "Epoch 8/10\n",
            "358/358 [==============================] - 17s 47ms/step - loss: 1.7225 - accuracy: 0.2843 - val_loss: 1.7179 - val_accuracy: 0.2791\n",
            "Epoch 9/10\n",
            "358/358 [==============================] - 17s 47ms/step - loss: 1.7173 - accuracy: 0.2843 - val_loss: 1.7161 - val_accuracy: 0.2791\n",
            "Epoch 10/10\n",
            "358/358 [==============================] - 17s 48ms/step - loss: 1.7165 - accuracy: 0.2843 - val_loss: 1.7159 - val_accuracy: 0.2791\n"
          ]
        }
      ]
    },
    {
      "cell_type": "code",
      "source": [
        "hist_df(history_baseline2)"
      ],
      "metadata": {
        "colab": {
          "base_uri": "https://localhost:8080/",
          "height": 363
        },
        "id": "smL_xZhSdMjV",
        "outputId": "6ebac92f-8faf-48ee-86f9-648acd93d813"
      },
      "execution_count": 17,
      "outputs": [
        {
          "output_type": "execute_result",
          "data": {
            "text/plain": [
              "          loss  accuracy     val_loss  val_accuracy\n",
              "0  7000.328125  0.233024  3414.739502      0.286415\n",
              "1  2009.499634  0.288064  1326.655151      0.354692\n",
              "2  1027.117188  0.305565   985.116272      0.201681\n",
              "3   696.081360  0.324466   556.752075      0.309174\n",
              "4   438.415558  0.357630   293.946136      0.390056\n",
              "5   135.805389  0.310816     1.773929      0.239146\n",
              "6     1.747321  0.260326     1.728327      0.279062\n",
              "7     1.722543  0.284302     1.717867      0.279062\n",
              "8     1.717337  0.284302     1.716110      0.279062\n",
              "9     1.716487  0.284302     1.715866      0.279062"
            ],
            "text/html": [
              "\n",
              "  <div id=\"df-18b5182e-3f6d-4b0c-baa0-54d87814b652\">\n",
              "    <div class=\"colab-df-container\">\n",
              "      <div>\n",
              "<style scoped>\n",
              "    .dataframe tbody tr th:only-of-type {\n",
              "        vertical-align: middle;\n",
              "    }\n",
              "\n",
              "    .dataframe tbody tr th {\n",
              "        vertical-align: top;\n",
              "    }\n",
              "\n",
              "    .dataframe thead th {\n",
              "        text-align: right;\n",
              "    }\n",
              "</style>\n",
              "<table border=\"1\" class=\"dataframe\">\n",
              "  <thead>\n",
              "    <tr style=\"text-align: right;\">\n",
              "      <th></th>\n",
              "      <th>loss</th>\n",
              "      <th>accuracy</th>\n",
              "      <th>val_loss</th>\n",
              "      <th>val_accuracy</th>\n",
              "    </tr>\n",
              "  </thead>\n",
              "  <tbody>\n",
              "    <tr>\n",
              "      <th>0</th>\n",
              "      <td>7000.328125</td>\n",
              "      <td>0.233024</td>\n",
              "      <td>3414.739502</td>\n",
              "      <td>0.286415</td>\n",
              "    </tr>\n",
              "    <tr>\n",
              "      <th>1</th>\n",
              "      <td>2009.499634</td>\n",
              "      <td>0.288064</td>\n",
              "      <td>1326.655151</td>\n",
              "      <td>0.354692</td>\n",
              "    </tr>\n",
              "    <tr>\n",
              "      <th>2</th>\n",
              "      <td>1027.117188</td>\n",
              "      <td>0.305565</td>\n",
              "      <td>985.116272</td>\n",
              "      <td>0.201681</td>\n",
              "    </tr>\n",
              "    <tr>\n",
              "      <th>3</th>\n",
              "      <td>696.081360</td>\n",
              "      <td>0.324466</td>\n",
              "      <td>556.752075</td>\n",
              "      <td>0.309174</td>\n",
              "    </tr>\n",
              "    <tr>\n",
              "      <th>4</th>\n",
              "      <td>438.415558</td>\n",
              "      <td>0.357630</td>\n",
              "      <td>293.946136</td>\n",
              "      <td>0.390056</td>\n",
              "    </tr>\n",
              "    <tr>\n",
              "      <th>5</th>\n",
              "      <td>135.805389</td>\n",
              "      <td>0.310816</td>\n",
              "      <td>1.773929</td>\n",
              "      <td>0.239146</td>\n",
              "    </tr>\n",
              "    <tr>\n",
              "      <th>6</th>\n",
              "      <td>1.747321</td>\n",
              "      <td>0.260326</td>\n",
              "      <td>1.728327</td>\n",
              "      <td>0.279062</td>\n",
              "    </tr>\n",
              "    <tr>\n",
              "      <th>7</th>\n",
              "      <td>1.722543</td>\n",
              "      <td>0.284302</td>\n",
              "      <td>1.717867</td>\n",
              "      <td>0.279062</td>\n",
              "    </tr>\n",
              "    <tr>\n",
              "      <th>8</th>\n",
              "      <td>1.717337</td>\n",
              "      <td>0.284302</td>\n",
              "      <td>1.716110</td>\n",
              "      <td>0.279062</td>\n",
              "    </tr>\n",
              "    <tr>\n",
              "      <th>9</th>\n",
              "      <td>1.716487</td>\n",
              "      <td>0.284302</td>\n",
              "      <td>1.715866</td>\n",
              "      <td>0.279062</td>\n",
              "    </tr>\n",
              "  </tbody>\n",
              "</table>\n",
              "</div>\n",
              "      <button class=\"colab-df-convert\" onclick=\"convertToInteractive('df-18b5182e-3f6d-4b0c-baa0-54d87814b652')\"\n",
              "              title=\"Convert this dataframe to an interactive table.\"\n",
              "              style=\"display:none;\">\n",
              "        \n",
              "  <svg xmlns=\"http://www.w3.org/2000/svg\" height=\"24px\"viewBox=\"0 0 24 24\"\n",
              "       width=\"24px\">\n",
              "    <path d=\"M0 0h24v24H0V0z\" fill=\"none\"/>\n",
              "    <path d=\"M18.56 5.44l.94 2.06.94-2.06 2.06-.94-2.06-.94-.94-2.06-.94 2.06-2.06.94zm-11 1L8.5 8.5l.94-2.06 2.06-.94-2.06-.94L8.5 2.5l-.94 2.06-2.06.94zm10 10l.94 2.06.94-2.06 2.06-.94-2.06-.94-.94-2.06-.94 2.06-2.06.94z\"/><path d=\"M17.41 7.96l-1.37-1.37c-.4-.4-.92-.59-1.43-.59-.52 0-1.04.2-1.43.59L10.3 9.45l-7.72 7.72c-.78.78-.78 2.05 0 2.83L4 21.41c.39.39.9.59 1.41.59.51 0 1.02-.2 1.41-.59l7.78-7.78 2.81-2.81c.8-.78.8-2.07 0-2.86zM5.41 20L4 18.59l7.72-7.72 1.47 1.35L5.41 20z\"/>\n",
              "  </svg>\n",
              "      </button>\n",
              "      \n",
              "  <style>\n",
              "    .colab-df-container {\n",
              "      display:flex;\n",
              "      flex-wrap:wrap;\n",
              "      gap: 12px;\n",
              "    }\n",
              "\n",
              "    .colab-df-convert {\n",
              "      background-color: #E8F0FE;\n",
              "      border: none;\n",
              "      border-radius: 50%;\n",
              "      cursor: pointer;\n",
              "      display: none;\n",
              "      fill: #1967D2;\n",
              "      height: 32px;\n",
              "      padding: 0 0 0 0;\n",
              "      width: 32px;\n",
              "    }\n",
              "\n",
              "    .colab-df-convert:hover {\n",
              "      background-color: #E2EBFA;\n",
              "      box-shadow: 0px 1px 2px rgba(60, 64, 67, 0.3), 0px 1px 3px 1px rgba(60, 64, 67, 0.15);\n",
              "      fill: #174EA6;\n",
              "    }\n",
              "\n",
              "    [theme=dark] .colab-df-convert {\n",
              "      background-color: #3B4455;\n",
              "      fill: #D2E3FC;\n",
              "    }\n",
              "\n",
              "    [theme=dark] .colab-df-convert:hover {\n",
              "      background-color: #434B5C;\n",
              "      box-shadow: 0px 1px 3px 1px rgba(0, 0, 0, 0.15);\n",
              "      filter: drop-shadow(0px 1px 2px rgba(0, 0, 0, 0.3));\n",
              "      fill: #FFFFFF;\n",
              "    }\n",
              "  </style>\n",
              "\n",
              "      <script>\n",
              "        const buttonEl =\n",
              "          document.querySelector('#df-18b5182e-3f6d-4b0c-baa0-54d87814b652 button.colab-df-convert');\n",
              "        buttonEl.style.display =\n",
              "          google.colab.kernel.accessAllowed ? 'block' : 'none';\n",
              "\n",
              "        async function convertToInteractive(key) {\n",
              "          const element = document.querySelector('#df-18b5182e-3f6d-4b0c-baa0-54d87814b652');\n",
              "          const dataTable =\n",
              "            await google.colab.kernel.invokeFunction('convertToInteractive',\n",
              "                                                     [key], {});\n",
              "          if (!dataTable) return;\n",
              "\n",
              "          const docLinkHtml = 'Like what you see? Visit the ' +\n",
              "            '<a target=\"_blank\" href=https://colab.research.google.com/notebooks/data_table.ipynb>data table notebook</a>'\n",
              "            + ' to learn more about interactive tables.';\n",
              "          element.innerHTML = '';\n",
              "          dataTable['output_type'] = 'display_data';\n",
              "          await google.colab.output.renderOutput(dataTable, element);\n",
              "          const docLink = document.createElement('div');\n",
              "          docLink.innerHTML = docLinkHtml;\n",
              "          element.appendChild(docLink);\n",
              "        }\n",
              "      </script>\n",
              "    </div>\n",
              "  </div>\n",
              "  "
            ]
          },
          "metadata": {},
          "execution_count": 17
        }
      ]
    },
    {
      "cell_type": "code",
      "source": [
        "train_mean_df(history_baseline2)"
      ],
      "metadata": {
        "colab": {
          "base_uri": "https://localhost:8080/",
          "height": 192
        },
        "id": "hJU58uzDdMZ4",
        "outputId": "52f4e427-6551-4aac-ccca-0f14843dd905"
      },
      "execution_count": 18,
      "outputs": [
        {
          "output_type": "execute_result",
          "data": {
            "text/plain": [
              "<pandas.io.formats.style.Styler at 0x7f58ecf9e750>"
            ],
            "text/html": [
              "<style type=\"text/css\">\n",
              "</style>\n",
              "<table id=\"T_ee2fc_\" class=\"dataframe\">\n",
              "  <caption>Training Mean</caption>\n",
              "  <thead>\n",
              "    <tr>\n",
              "      <th class=\"blank level0\" >&nbsp;</th>\n",
              "      <th class=\"col_heading level0 col0\" >Value</th>\n",
              "    </tr>\n",
              "  </thead>\n",
              "  <tbody>\n",
              "    <tr>\n",
              "      <th id=\"T_ee2fc_level0_row0\" class=\"row_heading level0 row0\" >loss</th>\n",
              "      <td id=\"T_ee2fc_row0_col0\" class=\"data row0 col0\" >1131.415094</td>\n",
              "    </tr>\n",
              "    <tr>\n",
              "      <th id=\"T_ee2fc_level0_row1\" class=\"row_heading level0 row1\" >accuracy</th>\n",
              "      <td id=\"T_ee2fc_row1_col0\" class=\"data row1 col0\" >0.293280</td>\n",
              "    </tr>\n",
              "    <tr>\n",
              "      <th id=\"T_ee2fc_level0_row2\" class=\"row_heading level0 row2\" >val_loss</th>\n",
              "      <td id=\"T_ee2fc_row2_col0\" class=\"data row2 col0\" >658.586123</td>\n",
              "    </tr>\n",
              "    <tr>\n",
              "      <th id=\"T_ee2fc_level0_row3\" class=\"row_heading level0 row3\" >val_accuracy</th>\n",
              "      <td id=\"T_ee2fc_row3_col0\" class=\"data row3 col0\" >0.289741</td>\n",
              "    </tr>\n",
              "  </tbody>\n",
              "</table>\n"
            ]
          },
          "metadata": {},
          "execution_count": 18
        }
      ]
    },
    {
      "cell_type": "code",
      "source": [
        "plot_val(history_baseline2)"
      ],
      "metadata": {
        "colab": {
          "base_uri": "https://localhost:8080/",
          "height": 297
        },
        "id": "j-qpMy7AdMNb",
        "outputId": "dfdae9f8-1ceb-4a8e-af58-ed3063930659"
      },
      "execution_count": 19,
      "outputs": [
        {
          "output_type": "display_data",
          "data": {
            "text/plain": [
              "<Figure size 864x288 with 2 Axes>"
            ],
            "image/png": "[encoded data removed]"
          },
          "metadata": {
            "needs_background": "light"
          }
        }
      ]
    },
    {
      "cell_type": "code",
      "source": [
        "eval_baseline2 = model_baseline2.evaluate(test_set)"
      ],
      "metadata": {
        "colab": {
          "base_uri": "https://localhost:8080/"
        },
        "id": "1o0aa-n0Qk2R",
        "outputId": "db076637-49ff-4337-d2de-473db3634757"
      },
      "execution_count": 20,
      "outputs": [
        {
          "output_type": "stream",
          "name": "stdout",
          "text": [
            "66/66 [==============================] - 2s 32ms/step - loss: 2.6517 - accuracy: 0.2812\n"
          ]
        }
      ]
    },
    {
      "cell_type": "code",
      "source": [
        "eval_df(eval_baseline2)"
      ],
      "metadata": {
        "colab": {
          "base_uri": "https://localhost:8080/",
          "height": 129
        },
        "id": "rTkQ-oy5ezQu",
        "outputId": "d9e77f3b-db1e-4002-b312-11254dbeed88"
      },
      "execution_count": 21,
      "outputs": [
        {
          "output_type": "execute_result",
          "data": {
            "text/plain": [
              "<pandas.io.formats.style.Styler at 0x7f58ed51ea50>"
            ],
            "text/html": [
              "<style type=\"text/css\">\n",
              "</style>\n",
              "<table id=\"T_8699e_\" class=\"dataframe\">\n",
              "  <caption>Testing Metrics</caption>\n",
              "  <thead>\n",
              "    <tr>\n",
              "      <th class=\"blank level0\" >&nbsp;</th>\n",
              "      <th class=\"col_heading level0 col0\" >Value</th>\n",
              "    </tr>\n",
              "  </thead>\n",
              "  <tbody>\n",
              "    <tr>\n",
              "      <th id=\"T_8699e_level0_row0\" class=\"row_heading level0 row0\" >loss</th>\n",
              "      <td id=\"T_8699e_row0_col0\" class=\"data row0 col0\" >2.651654</td>\n",
              "    </tr>\n",
              "    <tr>\n",
              "      <th id=\"T_8699e_level0_row1\" class=\"row_heading level0 row1\" >accuracy</th>\n",
              "      <td id=\"T_8699e_row1_col0\" class=\"data row1 col0\" >0.281161</td>\n",
              "    </tr>\n",
              "  </tbody>\n",
              "</table>\n"
            ]
          },
          "metadata": {},
          "execution_count": 21
        }
      ]
    },
    {
      "cell_type": "markdown",
      "source": [
        "## Switch to CNNs; build the first Convnet"
      ],
      "metadata": {
        "id": "zp2bWeTTSdcX"
      }
    },
    {
      "cell_type": "code",
      "source": [
        "# switch to Functional API\n",
        "cnn_input = keras.Input(shape=(120, 120, 3))\n",
        "x = layers.Conv2D(filters=32, kernel_size=3, activation='relu')(cnn_input)\n",
        "x = layers.MaxPooling2D(pool_size=2)(x)\n",
        "x = layers.Flatten()(x)\n",
        "cnn_output = layers.Dense(6, activation='softmax')(x)\n",
        "model_cnn_1 = keras.Model(inputs=cnn_input, outputs=cnn_output)"
      ],
      "metadata": {
        "id": "fE3RGT2SSF7h"
      },
      "execution_count": 22,
      "outputs": []
    },
    {
      "cell_type": "code",
      "source": [
        "#show layer and parameter counts\n",
        "model_cnn_1.summary()"
      ],
      "metadata": {
        "colab": {
          "base_uri": "https://localhost:8080/"
        },
        "id": "8Un3IO9zTLAh",
        "outputId": "725e3395-33fc-49ec-9318-e1297d98023f"
      },
      "execution_count": 23,
      "outputs": [
        {
          "output_type": "stream",
          "name": "stdout",
          "text": [
            "Model: \"model\"\n",
            "_________________________________________________________________\n",
            " Layer (type)                Output Shape              Param #   \n",
            "=================================================================\n",
            " input_1 (InputLayer)        [(None, 120, 120, 3)]     0         \n",
            "                                                                 \n",
            " conv2d (Conv2D)             (None, 118, 118, 32)      896       \n",
            "                                                                 \n",
            " max_pooling2d (MaxPooling2D  (None, 59, 59, 32)       0         \n",
            " )                                                               \n",
            "                                                                 \n",
            " flatten_2 (Flatten)         (None, 111392)            0         \n",
            "                                                                 \n",
            " dense_4 (Dense)             (None, 6)                 668358    \n",
            "                                                                 \n",
            "=================================================================\n",
            "Total params: 669,254\n",
            "Trainable params: 669,254\n",
            "Non-trainable params: 0\n",
            "_________________________________________________________________\n"
          ]
        }
      ]
    },
    {
      "cell_type": "code",
      "source": [
        "model_cnn_1.compile(\n",
        "    optimizer='rmsprop',\n",
        "    loss='categorical_crossentropy',\n",
        "    metrics=['accuracy']\n",
        ")"
      ],
      "metadata": {
        "id": "R4rfOP85TNcZ"
      },
      "execution_count": 24,
      "outputs": []
    },
    {
      "cell_type": "code",
      "source": [
        "history_cnn_1 = model_cnn_1.fit(train_set, epochs=default_epochs, validation_data=validation_set)"
      ],
      "metadata": {
        "colab": {
          "base_uri": "https://localhost:8080/"
        },
        "id": "ciiV7vmjTXDJ",
        "outputId": "9b5f36ef-c7cc-47b2-ade0-50fb1fa51b2e"
      },
      "execution_count": 25,
      "outputs": [
        {
          "output_type": "stream",
          "name": "stdout",
          "text": [
            "Epoch 1/10\n",
            "358/358 [==============================] - 19s 48ms/step - loss: 263.9401 - accuracy: 0.5998 - val_loss: 0.8574 - val_accuracy: 0.7482\n",
            "Epoch 2/10\n",
            "358/358 [==============================] - 17s 47ms/step - loss: 0.6404 - accuracy: 0.8400 - val_loss: 0.6275 - val_accuracy: 0.8379\n",
            "Epoch 3/10\n",
            "358/358 [==============================] - 17s 48ms/step - loss: 0.4835 - accuracy: 0.9150 - val_loss: 0.8295 - val_accuracy: 0.8477\n",
            "Epoch 4/10\n",
            "358/358 [==============================] - 17s 47ms/step - loss: 0.6667 - accuracy: 0.9320 - val_loss: 1.1319 - val_accuracy: 0.8603\n",
            "Epoch 5/10\n",
            "358/358 [==============================] - 17s 47ms/step - loss: 2.0263 - accuracy: 0.9415 - val_loss: 2.6070 - val_accuracy: 0.8207\n",
            "Epoch 6/10\n",
            "358/358 [==============================] - 17s 46ms/step - loss: 0.3490 - accuracy: 0.9653 - val_loss: 1.4653 - val_accuracy: 0.8687\n",
            "Epoch 7/10\n",
            "358/358 [==============================] - 17s 46ms/step - loss: 1.0696 - accuracy: 0.9586 - val_loss: 2.0862 - val_accuracy: 0.8550\n",
            "Epoch 8/10\n",
            "358/358 [==============================] - 24s 67ms/step - loss: 0.5200 - accuracy: 0.9674 - val_loss: 1.9454 - val_accuracy: 0.8817\n",
            "Epoch 9/10\n",
            "358/358 [==============================] - 17s 46ms/step - loss: 0.4688 - accuracy: 0.9708 - val_loss: 2.8827 - val_accuracy: 0.8459\n",
            "Epoch 10/10\n",
            "358/358 [==============================] - 17s 46ms/step - loss: 0.9162 - accuracy: 0.9661 - val_loss: 6.4993 - val_accuracy: 0.8295\n"
          ]
        }
      ]
    },
    {
      "cell_type": "code",
      "source": [
        "hist_df(history_cnn_1)"
      ],
      "metadata": {
        "colab": {
          "base_uri": "https://localhost:8080/",
          "height": 363
        },
        "id": "nixNYoBQTdEJ",
        "outputId": "5394d000-e2bd-437d-c94c-fa6abe3f8345"
      },
      "execution_count": 26,
      "outputs": [
        {
          "output_type": "execute_result",
          "data": {
            "text/plain": [
              "         loss  accuracy  val_loss  val_accuracy\n",
              "0  263.940094  0.599755  0.857351      0.748249\n",
              "1    0.640423  0.839954  0.627519      0.837885\n",
              "2    0.483455  0.915033  0.829543      0.847689\n",
              "3    0.666669  0.932009  1.131911      0.860294\n",
              "4    2.026311  0.941547  2.607044      0.820728\n",
              "5    0.349041  0.965261  1.465273      0.868697\n",
              "6    1.069635  0.958610  2.086161      0.855042\n",
              "7    0.519961  0.967361  1.945441      0.881653\n",
              "8    0.468786  0.970774  2.882743      0.845938\n",
              "9    0.916220  0.966136  6.499343      0.829482"
            ],
            "text/html": [
              "\n",
              "  <div id=\"df-8d64b0e9-1cc8-4e9a-b385-140dc7bb4e56\">\n",
              "    <div class=\"colab-df-container\">\n",
              "      <div>\n",
              "<style scoped>\n",
              "    .dataframe tbody tr th:only-of-type {\n",
              "        vertical-align: middle;\n",
              "    }\n",
              "\n",
              "    .dataframe tbody tr th {\n",
              "        vertical-align: top;\n",
              "    }\n",
              "\n",
              "    .dataframe thead th {\n",
              "        text-align: right;\n",
              "    }\n",
              "</style>\n",
              "<table border=\"1\" class=\"dataframe\">\n",
              "  <thead>\n",
              "    <tr style=\"text-align: right;\">\n",
              "      <th></th>\n",
              "      <th>loss</th>\n",
              "      <th>accuracy</th>\n",
              "      <th>val_loss</th>\n",
              "      <th>val_accuracy</th>\n",
              "    </tr>\n",
              "  </thead>\n",
              "  <tbody>\n",
              "    <tr>\n",
              "      <th>0</th>\n",
              "      <td>263.940094</td>\n",
              "      <td>0.599755</td>\n",
              "      <td>0.857351</td>\n",
              "      <td>0.748249</td>\n",
              "    </tr>\n",
              "    <tr>\n",
              "      <th>1</th>\n",
              "      <td>0.640423</td>\n",
              "      <td>0.839954</td>\n",
              "      <td>0.627519</td>\n",
              "      <td>0.837885</td>\n",
              "    </tr>\n",
              "    <tr>\n",
              "      <th>2</th>\n",
              "      <td>0.483455</td>\n",
              "      <td>0.915033</td>\n",
              "      <td>0.829543</td>\n",
              "      <td>0.847689</td>\n",
              "    </tr>\n",
              "    <tr>\n",
              "      <th>3</th>\n",
              "      <td>0.666669</td>\n",
              "      <td>0.932009</td>\n",
              "      <td>1.131911</td>\n",
              "      <td>0.860294</td>\n",
              "    </tr>\n",
              "    <tr>\n",
              "      <th>4</th>\n",
              "      <td>2.026311</td>\n",
              "      <td>0.941547</td>\n",
              "      <td>2.607044</td>\n",
              "      <td>0.820728</td>\n",
              "    </tr>\n",
              "    <tr>\n",
              "      <th>5</th>\n",
              "      <td>0.349041</td>\n",
              "      <td>0.965261</td>\n",
              "      <td>1.465273</td>\n",
              "      <td>0.868697</td>\n",
              "    </tr>\n",
              "    <tr>\n",
              "      <th>6</th>\n",
              "      <td>1.069635</td>\n",
              "      <td>0.958610</td>\n",
              "      <td>2.086161</td>\n",
              "      <td>0.855042</td>\n",
              "    </tr>\n",
              "    <tr>\n",
              "      <th>7</th>\n",
              "      <td>0.519961</td>\n",
              "      <td>0.967361</td>\n",
              "      <td>1.945441</td>\n",
              "      <td>0.881653</td>\n",
              "    </tr>\n",
              "    <tr>\n",
              "      <th>8</th>\n",
              "      <td>0.468786</td>\n",
              "      <td>0.970774</td>\n",
              "      <td>2.882743</td>\n",
              "      <td>0.845938</td>\n",
              "    </tr>\n",
              "    <tr>\n",
              "      <th>9</th>\n",
              "      <td>0.916220</td>\n",
              "      <td>0.966136</td>\n",
              "      <td>6.499343</td>\n",
              "      <td>0.829482</td>\n",
              "    </tr>\n",
              "  </tbody>\n",
              "</table>\n",
              "</div>\n",
              "      <button class=\"colab-df-convert\" onclick=\"convertToInteractive('df-8d64b0e9-1cc8-4e9a-b385-140dc7bb4e56')\"\n",
              "              title=\"Convert this dataframe to an interactive table.\"\n",
              "              style=\"display:none;\">\n",
              "        \n",
              "  <svg xmlns=\"http://www.w3.org/2000/svg\" height=\"24px\"viewBox=\"0 0 24 24\"\n",
              "       width=\"24px\">\n",
              "    <path d=\"M0 0h24v24H0V0z\" fill=\"none\"/>\n",
              "    <path d=\"M18.56 5.44l.94 2.06.94-2.06 2.06-.94-2.06-.94-.94-2.06-.94 2.06-2.06.94zm-11 1L8.5 8.5l.94-2.06 2.06-.94-2.06-.94L8.5 2.5l-.94 2.06-2.06.94zm10 10l.94 2.06.94-2.06 2.06-.94-2.06-.94-.94-2.06-.94 2.06-2.06.94z\"/><path d=\"M17.41 7.96l-1.37-1.37c-.4-.4-.92-.59-1.43-.59-.52 0-1.04.2-1.43.59L10.3 9.45l-7.72 7.72c-.78.78-.78 2.05 0 2.83L4 21.41c.39.39.9.59 1.41.59.51 0 1.02-.2 1.41-.59l7.78-7.78 2.81-2.81c.8-.78.8-2.07 0-2.86zM5.41 20L4 18.59l7.72-7.72 1.47 1.35L5.41 20z\"/>\n",
              "  </svg>\n",
              "      </button>\n",
              "      \n",
              "  <style>\n",
              "    .colab-df-container {\n",
              "      display:flex;\n",
              "      flex-wrap:wrap;\n",
              "      gap: 12px;\n",
              "    }\n",
              "\n",
              "    .colab-df-convert {\n",
              "      background-color: #E8F0FE;\n",
              "      border: none;\n",
              "      border-radius: 50%;\n",
              "      cursor: pointer;\n",
              "      display: none;\n",
              "      fill: #1967D2;\n",
              "      height: 32px;\n",
              "      padding: 0 0 0 0;\n",
              "      width: 32px;\n",
              "    }\n",
              "\n",
              "    .colab-df-convert:hover {\n",
              "      background-color: #E2EBFA;\n",
              "      box-shadow: 0px 1px 2px rgba(60, 64, 67, 0.3), 0px 1px 3px 1px rgba(60, 64, 67, 0.15);\n",
              "      fill: #174EA6;\n",
              "    }\n",
              "\n",
              "    [theme=dark] .colab-df-convert {\n",
              "      background-color: #3B4455;\n",
              "      fill: #D2E3FC;\n",
              "    }\n",
              "\n",
              "    [theme=dark] .colab-df-convert:hover {\n",
              "      background-color: #434B5C;\n",
              "      box-shadow: 0px 1px 3px 1px rgba(0, 0, 0, 0.15);\n",
              "      filter: drop-shadow(0px 1px 2px rgba(0, 0, 0, 0.3));\n",
              "      fill: #FFFFFF;\n",
              "    }\n",
              "  </style>\n",
              "\n",
              "      <script>\n",
              "        const buttonEl =\n",
              "          document.querySelector('#df-8d64b0e9-1cc8-4e9a-b385-140dc7bb4e56 button.colab-df-convert');\n",
              "        buttonEl.style.display =\n",
              "          google.colab.kernel.accessAllowed ? 'block' : 'none';\n",
              "\n",
              "        async function convertToInteractive(key) {\n",
              "          const element = document.querySelector('#df-8d64b0e9-1cc8-4e9a-b385-140dc7bb4e56');\n",
              "          const dataTable =\n",
              "            await google.colab.kernel.invokeFunction('convertToInteractive',\n",
              "                                                     [key], {});\n",
              "          if (!dataTable) return;\n",
              "\n",
              "          const docLinkHtml = 'Like what you see? Visit the ' +\n",
              "            '<a target=\"_blank\" href=https://colab.research.google.com/notebooks/data_table.ipynb>data table notebook</a>'\n",
              "            + ' to learn more about interactive tables.';\n",
              "          element.innerHTML = '';\n",
              "          dataTable['output_type'] = 'display_data';\n",
              "          await google.colab.output.renderOutput(dataTable, element);\n",
              "          const docLink = document.createElement('div');\n",
              "          docLink.innerHTML = docLinkHtml;\n",
              "          element.appendChild(docLink);\n",
              "        }\n",
              "      </script>\n",
              "    </div>\n",
              "  </div>\n",
              "  "
            ]
          },
          "metadata": {},
          "execution_count": 26
        }
      ]
    },
    {
      "cell_type": "code",
      "source": [
        "train_mean_df(history_cnn_1)"
      ],
      "metadata": {
        "colab": {
          "base_uri": "https://localhost:8080/",
          "height": 192
        },
        "id": "Om7eoVIze9uJ",
        "outputId": "bdd30973-8205-48b5-9ebd-a25b16140a1f"
      },
      "execution_count": 27,
      "outputs": [
        {
          "output_type": "execute_result",
          "data": {
            "text/plain": [
              "<pandas.io.formats.style.Styler at 0x7f59020a08d0>"
            ],
            "text/html": [
              "<style type=\"text/css\">\n",
              "</style>\n",
              "<table id=\"T_61e62_\" class=\"dataframe\">\n",
              "  <caption>Training Mean</caption>\n",
              "  <thead>\n",
              "    <tr>\n",
              "      <th class=\"blank level0\" >&nbsp;</th>\n",
              "      <th class=\"col_heading level0 col0\" >Value</th>\n",
              "    </tr>\n",
              "  </thead>\n",
              "  <tbody>\n",
              "    <tr>\n",
              "      <th id=\"T_61e62_level0_row0\" class=\"row_heading level0 row0\" >loss</th>\n",
              "      <td id=\"T_61e62_row0_col0\" class=\"data row0 col0\" >27.108060</td>\n",
              "    </tr>\n",
              "    <tr>\n",
              "      <th id=\"T_61e62_level0_row1\" class=\"row_heading level0 row1\" >accuracy</th>\n",
              "      <td id=\"T_61e62_row1_col0\" class=\"data row1 col0\" >0.905644</td>\n",
              "    </tr>\n",
              "    <tr>\n",
              "      <th id=\"T_61e62_level0_row2\" class=\"row_heading level0 row2\" >val_loss</th>\n",
              "      <td id=\"T_61e62_row2_col0\" class=\"data row2 col0\" >2.093233</td>\n",
              "    </tr>\n",
              "    <tr>\n",
              "      <th id=\"T_61e62_level0_row3\" class=\"row_heading level0 row3\" >val_accuracy</th>\n",
              "      <td id=\"T_61e62_row3_col0\" class=\"data row3 col0\" >0.839566</td>\n",
              "    </tr>\n",
              "  </tbody>\n",
              "</table>\n"
            ]
          },
          "metadata": {},
          "execution_count": 27
        }
      ]
    },
    {
      "cell_type": "code",
      "source": [
        "plot_val(history_cnn_1)"
      ],
      "metadata": {
        "colab": {
          "base_uri": "https://localhost:8080/",
          "height": 297
        },
        "id": "n0kMhlxyfC4Z",
        "outputId": "15074cd4-2794-48fa-a127-f3045eaa977d"
      },
      "execution_count": 28,
      "outputs": [
        {
          "output_type": "display_data",
          "data": {
            "text/plain": [
              "<Figure size 864x288 with 2 Axes>"
            ],
            "image/png": "[encoded data removed]"
          },
          "metadata": {
            "needs_background": "light"
          }
        }
      ]
    },
    {
      "cell_type": "code",
      "source": [
        "eval_cnn_1 = model_cnn_1.evaluate(test_set)"
      ],
      "metadata": {
        "colab": {
          "base_uri": "https://localhost:8080/"
        },
        "id": "qxWB9CdLm6ft",
        "outputId": "9715e646-5ac4-4f24-9bb3-2afee24434af"
      },
      "execution_count": 29,
      "outputs": [
        {
          "output_type": "stream",
          "name": "stdout",
          "text": [
            "66/66 [==============================] - 3s 35ms/step - loss: 11.9286 - accuracy: 0.8230\n"
          ]
        }
      ]
    },
    {
      "cell_type": "code",
      "source": [
        "eval_df(eval_cnn_1)"
      ],
      "metadata": {
        "colab": {
          "base_uri": "https://localhost:8080/",
          "height": 129
        },
        "id": "AIDYVPStm6Zx",
        "outputId": "a13d44c5-8cfe-4f5a-8e93-16da57ee8bec"
      },
      "execution_count": 30,
      "outputs": [
        {
          "output_type": "execute_result",
          "data": {
            "text/plain": [
              "<pandas.io.formats.style.Styler at 0x7f58ee5b3ed0>"
            ],
            "text/html": [
              "<style type=\"text/css\">\n",
              "</style>\n",
              "<table id=\"T_94814_\" class=\"dataframe\">\n",
              "  <caption>Testing Metrics</caption>\n",
              "  <thead>\n",
              "    <tr>\n",
              "      <th class=\"blank level0\" >&nbsp;</th>\n",
              "      <th class=\"col_heading level0 col0\" >Value</th>\n",
              "    </tr>\n",
              "  </thead>\n",
              "  <tbody>\n",
              "    <tr>\n",
              "      <th id=\"T_94814_level0_row0\" class=\"row_heading level0 row0\" >loss</th>\n",
              "      <td id=\"T_94814_row0_col0\" class=\"data row0 col0\" >11.928584</td>\n",
              "    </tr>\n",
              "    <tr>\n",
              "      <th id=\"T_94814_level0_row1\" class=\"row_heading level0 row1\" >accuracy</th>\n",
              "      <td id=\"T_94814_row1_col0\" class=\"data row1 col0\" >0.823026</td>\n",
              "    </tr>\n",
              "  </tbody>\n",
              "</table>\n"
            ]
          },
          "metadata": {},
          "execution_count": 30
        }
      ]
    },
    {
      "cell_type": "markdown",
      "source": [
        "## Scale up CNN; add Batch Normalization and final Dense layer"
      ],
      "metadata": {
        "id": "35-kkHtFgJAb"
      }
    },
    {
      "cell_type": "code",
      "source": [
        "cnn_input = keras.Input(shape=(120, 120, 3))\n",
        "x = layers.Rescaling(1./255)(cnn_input)\n",
        "x = layers.Conv2D(filters=16, kernel_size=3, activation='relu')(x)\n",
        "x = layers.BatchNormalization()(x)\n",
        "x = layers.MaxPooling2D(pool_size=2)(x)\n",
        "x = layers.Conv2D(filters=32, kernel_size=3, activation='relu')(x)\n",
        "x = layers.MaxPooling2D(pool_size=2)(x)\n",
        "x = layers.Conv2D(filters=64, kernel_size=3, activation='relu')(x)\n",
        "x = layers.MaxPooling2D(pool_size=2)(x)\n",
        "x = layers.Conv2D(filters=128, kernel_size=3, activation='relu')(x)\n",
        "x = layers.Flatten()(x)\n",
        "x = layers.Dense(256, activation='relu')(x)\n",
        "cnn_output = layers.Dense(6, activation='softmax')(x)\n",
        "model_cnn_2 = keras.Model(inputs=cnn_input, outputs=cnn_output)"
      ],
      "metadata": {
        "id": "yq1dAvy1fFoJ"
      },
      "execution_count": 31,
      "outputs": []
    },
    {
      "cell_type": "code",
      "source": [
        "model_cnn_2.summary()"
      ],
      "metadata": {
        "colab": {
          "base_uri": "https://localhost:8080/"
        },
        "id": "pqn1PB6nk4oS",
        "outputId": "71aa1119-3eb5-45cd-aeb4-a2eaf5d409ad"
      },
      "execution_count": 32,
      "outputs": [
        {
          "output_type": "stream",
          "name": "stdout",
          "text": [
            "Model: \"model_1\"\n",
            "_________________________________________________________________\n",
            " Layer (type)                Output Shape              Param #   \n",
            "=================================================================\n",
            " input_2 (InputLayer)        [(None, 120, 120, 3)]     0         \n",
            "                                                                 \n",
            " rescaling (Rescaling)       (None, 120, 120, 3)       0         \n",
            "                                                                 \n",
            " conv2d_1 (Conv2D)           (None, 118, 118, 16)      448       \n",
            "                                                                 \n",
            " batch_normalization (BatchN  (None, 118, 118, 16)     64        \n",
            " ormalization)                                                   \n",
            "                                                                 \n",
            " max_pooling2d_1 (MaxPooling  (None, 59, 59, 16)       0         \n",
            " 2D)                                                             \n",
            "                                                                 \n",
            " conv2d_2 (Conv2D)           (None, 57, 57, 32)        4640      \n",
            "                                                                 \n",
            " max_pooling2d_2 (MaxPooling  (None, 28, 28, 32)       0         \n",
            " 2D)                                                             \n",
            "                                                                 \n",
            " conv2d_3 (Conv2D)           (None, 26, 26, 64)        18496     \n",
            "                                                                 \n",
            " max_pooling2d_3 (MaxPooling  (None, 13, 13, 64)       0         \n",
            " 2D)                                                             \n",
            "                                                                 \n",
            " conv2d_4 (Conv2D)           (None, 11, 11, 128)       73856     \n",
            "                                                                 \n",
            " flatten_3 (Flatten)         (None, 15488)             0         \n",
            "                                                                 \n",
            " dense_5 (Dense)             (None, 256)               3965184   \n",
            "                                                                 \n",
            " dense_6 (Dense)             (None, 6)                 1542      \n",
            "                                                                 \n",
            "=================================================================\n",
            "Total params: 4,064,230\n",
            "Trainable params: 4,064,198\n",
            "Non-trainable params: 32\n",
            "_________________________________________________________________\n"
          ]
        }
      ]
    },
    {
      "cell_type": "code",
      "source": [
        "model_cnn_2.compile(\n",
        "    optimizer='rmsprop',\n",
        "    loss='categorical_crossentropy',\n",
        "    metrics=['accuracy']\n",
        ")\n",
        "\n",
        "history_cnn_2 = model_cnn_2.fit(train_set, epochs=default_epochs, validation_data=validation_set)"
      ],
      "metadata": {
        "colab": {
          "base_uri": "https://localhost:8080/"
        },
        "id": "INliIvM_k7KB",
        "outputId": "2fed937a-2d72-4892-8891-484bceae4423"
      },
      "execution_count": 33,
      "outputs": [
        {
          "output_type": "stream",
          "name": "stdout",
          "text": [
            "Epoch 1/10\n",
            "358/358 [==============================] - 19s 51ms/step - loss: 0.7031 - accuracy: 0.7655 - val_loss: 0.8510 - val_accuracy: 0.6737\n",
            "Epoch 2/10\n",
            "358/358 [==============================] - 19s 53ms/step - loss: 0.1502 - accuracy: 0.9562 - val_loss: 0.1599 - val_accuracy: 0.9503\n",
            "Epoch 3/10\n",
            "358/358 [==============================] - 19s 51ms/step - loss: 0.1217 - accuracy: 0.9753 - val_loss: 8.3912 - val_accuracy: 0.4573\n",
            "Epoch 4/10\n",
            "358/358 [==============================] - 18s 51ms/step - loss: 0.0721 - accuracy: 0.9837 - val_loss: 0.5499 - val_accuracy: 0.9020\n",
            "Epoch 5/10\n",
            "358/358 [==============================] - 18s 50ms/step - loss: 0.0857 - accuracy: 0.9845 - val_loss: 0.0767 - val_accuracy: 0.9839\n",
            "Epoch 6/10\n",
            "358/358 [==============================] - 18s 51ms/step - loss: 0.0853 - accuracy: 0.9863 - val_loss: 2.9300 - val_accuracy: 0.7994\n",
            "Epoch 7/10\n",
            "358/358 [==============================] - 18s 51ms/step - loss: 0.0669 - accuracy: 0.9882 - val_loss: 0.1125 - val_accuracy: 0.9849\n",
            "Epoch 8/10\n",
            "358/358 [==============================] - 18s 51ms/step - loss: 0.0819 - accuracy: 0.9891 - val_loss: 0.0283 - val_accuracy: 0.9961\n",
            "Epoch 9/10\n",
            "358/358 [==============================] - 18s 50ms/step - loss: 0.0789 - accuracy: 0.9891 - val_loss: 0.1379 - val_accuracy: 0.9821\n",
            "Epoch 10/10\n",
            "358/358 [==============================] - 18s 50ms/step - loss: 0.0869 - accuracy: 0.9908 - val_loss: 1.1439 - val_accuracy: 0.9184\n"
          ]
        }
      ]
    },
    {
      "cell_type": "code",
      "source": [
        "hist_df(history_cnn_2)"
      ],
      "metadata": {
        "colab": {
          "base_uri": "https://localhost:8080/",
          "height": 363
        },
        "id": "nrFp3I8WmMwh",
        "outputId": "a6e39481-1548-4c5c-cb16-78a6f45965ef"
      },
      "execution_count": 34,
      "outputs": [
        {
          "output_type": "execute_result",
          "data": {
            "text/plain": [
              "       loss  accuracy  val_loss  val_accuracy\n",
              "0  0.703053  0.765488  0.850955      0.673669\n",
              "1  0.150229  0.956160  0.159875      0.950280\n",
              "2  0.121717  0.975324  8.391210      0.457283\n",
              "3  0.072077  0.983724  0.549861      0.901961\n",
              "4  0.085654  0.984512  0.076696      0.983894\n",
              "5  0.085289  0.986262  2.930000      0.799370\n",
              "6  0.066873  0.988187  0.112492      0.984944\n",
              "7  0.081902  0.989062  0.028277      0.996148\n",
              "8  0.078859  0.989149  0.137870      0.982143\n",
              "9  0.086874  0.990812  1.143856      0.918417"
            ],
            "text/html": [
              "\n",
              "  <div id=\"df-4d7bf6ed-bc0b-4fee-b496-cf1815cbe087\">\n",
              "    <div class=\"colab-df-container\">\n",
              "      <div>\n",
              "<style scoped>\n",
              "    .dataframe tbody tr th:only-of-type {\n",
              "        vertical-align: middle;\n",
              "    }\n",
              "\n",
              "    .dataframe tbody tr th {\n",
              "        vertical-align: top;\n",
              "    }\n",
              "\n",
              "    .dataframe thead th {\n",
              "        text-align: right;\n",
              "    }\n",
              "</style>\n",
              "<table border=\"1\" class=\"dataframe\">\n",
              "  <thead>\n",
              "    <tr style=\"text-align: right;\">\n",
              "      <th></th>\n",
              "      <th>loss</th>\n",
              "      <th>accuracy</th>\n",
              "      <th>val_loss</th>\n",
              "      <th>val_accuracy</th>\n",
              "    </tr>\n",
              "  </thead>\n",
              "  <tbody>\n",
              "    <tr>\n",
              "      <th>0</th>\n",
              "      <td>0.703053</td>\n",
              "      <td>0.765488</td>\n",
              "      <td>0.850955</td>\n",
              "      <td>0.673669</td>\n",
              "    </tr>\n",
              "    <tr>\n",
              "      <th>1</th>\n",
              "      <td>0.150229</td>\n",
              "      <td>0.956160</td>\n",
              "      <td>0.159875</td>\n",
              "      <td>0.950280</td>\n",
              "    </tr>\n",
              "    <tr>\n",
              "      <th>2</th>\n",
              "      <td>0.121717</td>\n",
              "      <td>0.975324</td>\n",
              "      <td>8.391210</td>\n",
              "      <td>0.457283</td>\n",
              "    </tr>\n",
              "    <tr>\n",
              "      <th>3</th>\n",
              "      <td>0.072077</td>\n",
              "      <td>0.983724</td>\n",
              "      <td>0.549861</td>\n",
              "      <td>0.901961</td>\n",
              "    </tr>\n",
              "    <tr>\n",
              "      <th>4</th>\n",
              "      <td>0.085654</td>\n",
              "      <td>0.984512</td>\n",
              "      <td>0.076696</td>\n",
              "      <td>0.983894</td>\n",
              "    </tr>\n",
              "    <tr>\n",
              "      <th>5</th>\n",
              "      <td>0.085289</td>\n",
              "      <td>0.986262</td>\n",
              "      <td>2.930000</td>\n",
              "      <td>0.799370</td>\n",
              "    </tr>\n",
              "    <tr>\n",
              "      <th>6</th>\n",
              "      <td>0.066873</td>\n",
              "      <td>0.988187</td>\n",
              "      <td>0.112492</td>\n",
              "      <td>0.984944</td>\n",
              "    </tr>\n",
              "    <tr>\n",
              "      <th>7</th>\n",
              "      <td>0.081902</td>\n",
              "      <td>0.989062</td>\n",
              "      <td>0.028277</td>\n",
              "      <td>0.996148</td>\n",
              "    </tr>\n",
              "    <tr>\n",
              "      <th>8</th>\n",
              "      <td>0.078859</td>\n",
              "      <td>0.989149</td>\n",
              "      <td>0.137870</td>\n",
              "      <td>0.982143</td>\n",
              "    </tr>\n",
              "    <tr>\n",
              "      <th>9</th>\n",
              "      <td>0.086874</td>\n",
              "      <td>0.990812</td>\n",
              "      <td>1.143856</td>\n",
              "      <td>0.918417</td>\n",
              "    </tr>\n",
              "  </tbody>\n",
              "</table>\n",
              "</div>\n",
              "      <button class=\"colab-df-convert\" onclick=\"convertToInteractive('df-4d7bf6ed-bc0b-4fee-b496-cf1815cbe087')\"\n",
              "              title=\"Convert this dataframe to an interactive table.\"\n",
              "              style=\"display:none;\">\n",
              "        \n",
              "  <svg xmlns=\"http://www.w3.org/2000/svg\" height=\"24px\"viewBox=\"0 0 24 24\"\n",
              "       width=\"24px\">\n",
              "    <path d=\"M0 0h24v24H0V0z\" fill=\"none\"/>\n",
              "    <path d=\"M18.56 5.44l.94 2.06.94-2.06 2.06-.94-2.06-.94-.94-2.06-.94 2.06-2.06.94zm-11 1L8.5 8.5l.94-2.06 2.06-.94-2.06-.94L8.5 2.5l-.94 2.06-2.06.94zm10 10l.94 2.06.94-2.06 2.06-.94-2.06-.94-.94-2.06-.94 2.06-2.06.94z\"/><path d=\"M17.41 7.96l-1.37-1.37c-.4-.4-.92-.59-1.43-.59-.52 0-1.04.2-1.43.59L10.3 9.45l-7.72 7.72c-.78.78-.78 2.05 0 2.83L4 21.41c.39.39.9.59 1.41.59.51 0 1.02-.2 1.41-.59l7.78-7.78 2.81-2.81c.8-.78.8-2.07 0-2.86zM5.41 20L4 18.59l7.72-7.72 1.47 1.35L5.41 20z\"/>\n",
              "  </svg>\n",
              "      </button>\n",
              "      \n",
              "  <style>\n",
              "    .colab-df-container {\n",
              "      display:flex;\n",
              "      flex-wrap:wrap;\n",
              "      gap: 12px;\n",
              "    }\n",
              "\n",
              "    .colab-df-convert {\n",
              "      background-color: #E8F0FE;\n",
              "      border: none;\n",
              "      border-radius: 50%;\n",
              "      cursor: pointer;\n",
              "      display: none;\n",
              "      fill: #1967D2;\n",
              "      height: 32px;\n",
              "      padding: 0 0 0 0;\n",
              "      width: 32px;\n",
              "    }\n",
              "\n",
              "    .colab-df-convert:hover {\n",
              "      background-color: #E2EBFA;\n",
              "      box-shadow: 0px 1px 2px rgba(60, 64, 67, 0.3), 0px 1px 3px 1px rgba(60, 64, 67, 0.15);\n",
              "      fill: #174EA6;\n",
              "    }\n",
              "\n",
              "    [theme=dark] .colab-df-convert {\n",
              "      background-color: #3B4455;\n",
              "      fill: #D2E3FC;\n",
              "    }\n",
              "\n",
              "    [theme=dark] .colab-df-convert:hover {\n",
              "      background-color: #434B5C;\n",
              "      box-shadow: 0px 1px 3px 1px rgba(0, 0, 0, 0.15);\n",
              "      filter: drop-shadow(0px 1px 2px rgba(0, 0, 0, 0.3));\n",
              "      fill: #FFFFFF;\n",
              "    }\n",
              "  </style>\n",
              "\n",
              "      <script>\n",
              "        const buttonEl =\n",
              "          document.querySelector('#df-4d7bf6ed-bc0b-4fee-b496-cf1815cbe087 button.colab-df-convert');\n",
              "        buttonEl.style.display =\n",
              "          google.colab.kernel.accessAllowed ? 'block' : 'none';\n",
              "\n",
              "        async function convertToInteractive(key) {\n",
              "          const element = document.querySelector('#df-4d7bf6ed-bc0b-4fee-b496-cf1815cbe087');\n",
              "          const dataTable =\n",
              "            await google.colab.kernel.invokeFunction('convertToInteractive',\n",
              "                                                     [key], {});\n",
              "          if (!dataTable) return;\n",
              "\n",
              "          const docLinkHtml = 'Like what you see? Visit the ' +\n",
              "            '<a target=\"_blank\" href=https://colab.research.google.com/notebooks/data_table.ipynb>data table notebook</a>'\n",
              "            + ' to learn more about interactive tables.';\n",
              "          element.innerHTML = '';\n",
              "          dataTable['output_type'] = 'display_data';\n",
              "          await google.colab.output.renderOutput(dataTable, element);\n",
              "          const docLink = document.createElement('div');\n",
              "          docLink.innerHTML = docLinkHtml;\n",
              "          element.appendChild(docLink);\n",
              "        }\n",
              "      </script>\n",
              "    </div>\n",
              "  </div>\n",
              "  "
            ]
          },
          "metadata": {},
          "execution_count": 34
        }
      ]
    },
    {
      "cell_type": "code",
      "source": [
        "train_mean_df(history_cnn_2)"
      ],
      "metadata": {
        "colab": {
          "base_uri": "https://localhost:8080/",
          "height": 192
        },
        "id": "M6QZYec6mRGS",
        "outputId": "014927a6-3e04-4cb2-a248-5cfd75b354ef"
      },
      "execution_count": 35,
      "outputs": [
        {
          "output_type": "execute_result",
          "data": {
            "text/plain": [
              "<pandas.io.formats.style.Styler at 0x7f58ed4fdc10>"
            ],
            "text/html": [
              "<style type=\"text/css\">\n",
              "</style>\n",
              "<table id=\"T_940b3_\" class=\"dataframe\">\n",
              "  <caption>Training Mean</caption>\n",
              "  <thead>\n",
              "    <tr>\n",
              "      <th class=\"blank level0\" >&nbsp;</th>\n",
              "      <th class=\"col_heading level0 col0\" >Value</th>\n",
              "    </tr>\n",
              "  </thead>\n",
              "  <tbody>\n",
              "    <tr>\n",
              "      <th id=\"T_940b3_level0_row0\" class=\"row_heading level0 row0\" >loss</th>\n",
              "      <td id=\"T_940b3_row0_col0\" class=\"data row0 col0\" >0.153253</td>\n",
              "    </tr>\n",
              "    <tr>\n",
              "      <th id=\"T_940b3_level0_row1\" class=\"row_heading level0 row1\" >accuracy</th>\n",
              "      <td id=\"T_940b3_row1_col0\" class=\"data row1 col0\" >0.960868</td>\n",
              "    </tr>\n",
              "    <tr>\n",
              "      <th id=\"T_940b3_level0_row2\" class=\"row_heading level0 row2\" >val_loss</th>\n",
              "      <td id=\"T_940b3_row2_col0\" class=\"data row2 col0\" >1.438109</td>\n",
              "    </tr>\n",
              "    <tr>\n",
              "      <th id=\"T_940b3_level0_row3\" class=\"row_heading level0 row3\" >val_accuracy</th>\n",
              "      <td id=\"T_940b3_row3_col0\" class=\"data row3 col0\" >0.864811</td>\n",
              "    </tr>\n",
              "  </tbody>\n",
              "</table>\n"
            ]
          },
          "metadata": {},
          "execution_count": 35
        }
      ]
    },
    {
      "cell_type": "code",
      "source": [
        "plot_val(history_cnn_2)"
      ],
      "metadata": {
        "colab": {
          "base_uri": "https://localhost:8080/",
          "height": 297
        },
        "id": "WJMEZWZ9mV1R",
        "outputId": "16993aba-9645-4482-c930-4b354744f7d5"
      },
      "execution_count": 36,
      "outputs": [
        {
          "output_type": "display_data",
          "data": {
            "text/plain": [
              "<Figure size 864x288 with 2 Axes>"
            ],
            "image/png": "[encoded data removed]"
          },
          "metadata": {
            "needs_background": "light"
          }
        }
      ]
    },
    {
      "cell_type": "code",
      "source": [
        "eval_cnn_2 = model_cnn_2.evaluate(test_set)"
      ],
      "metadata": {
        "colab": {
          "base_uri": "https://localhost:8080/"
        },
        "id": "Fj-G7IpumYbJ",
        "outputId": "9707e68f-6f7d-4494-f9e2-30caa0cb0411"
      },
      "execution_count": 37,
      "outputs": [
        {
          "output_type": "stream",
          "name": "stdout",
          "text": [
            "66/66 [==============================] - 3s 37ms/step - loss: 2.2812 - accuracy: 0.8944\n"
          ]
        }
      ]
    },
    {
      "cell_type": "code",
      "source": [
        "eval_df(eval_cnn_2)"
      ],
      "metadata": {
        "colab": {
          "base_uri": "https://localhost:8080/",
          "height": 129
        },
        "id": "cl-DxZDtnRPp",
        "outputId": "ed910c8b-727e-44b4-b1b8-681344fd6a13"
      },
      "execution_count": 38,
      "outputs": [
        {
          "output_type": "execute_result",
          "data": {
            "text/plain": [
              "<pandas.io.formats.style.Styler at 0x7f58ee19bb90>"
            ],
            "text/html": [
              "<style type=\"text/css\">\n",
              "</style>\n",
              "<table id=\"T_6fd61_\" class=\"dataframe\">\n",
              "  <caption>Testing Metrics</caption>\n",
              "  <thead>\n",
              "    <tr>\n",
              "      <th class=\"blank level0\" >&nbsp;</th>\n",
              "      <th class=\"col_heading level0 col0\" >Value</th>\n",
              "    </tr>\n",
              "  </thead>\n",
              "  <tbody>\n",
              "    <tr>\n",
              "      <th id=\"T_6fd61_level0_row0\" class=\"row_heading level0 row0\" >loss</th>\n",
              "      <td id=\"T_6fd61_row0_col0\" class=\"data row0 col0\" >2.281184</td>\n",
              "    </tr>\n",
              "    <tr>\n",
              "      <th id=\"T_6fd61_level0_row1\" class=\"row_heading level0 row1\" >accuracy</th>\n",
              "      <td id=\"T_6fd61_row1_col0\" class=\"data row1 col0\" >0.894386</td>\n",
              "    </tr>\n",
              "  </tbody>\n",
              "</table>\n"
            ]
          },
          "metadata": {},
          "execution_count": 38
        }
      ]
    },
    {
      "cell_type": "markdown",
      "source": [
        "## Attempt to regularize model by adding dropout layers "
      ],
      "metadata": {
        "id": "DUdc9lN_n2vP"
      }
    },
    {
      "cell_type": "code",
      "source": [
        "# added dropout layers\n",
        "cnn_input = keras.Input(shape=(120, 120, 3))\n",
        "x = layers.Rescaling(1./255)(cnn_input)\n",
        "x = layers.Conv2D(filters=16, kernel_size=3, activation='relu')(x)\n",
        "x = layers.BatchNormalization()(x)\n",
        "x = layers.MaxPooling2D(pool_size=2)(x)\n",
        "x = layers.Dropout(0.1)(x)\n",
        "x = layers.Conv2D(filters=32, kernel_size=3, activation='relu')(x)\n",
        "x = layers.MaxPooling2D(pool_size=2)(x)\n",
        "x = layers.Dropout(0.1)(x)\n",
        "x = layers.Conv2D(filters=64, kernel_size=3, activation='relu')(x)\n",
        "x = layers.MaxPooling2D(pool_size=2)(x)\n",
        "x = layers.Dropout(0.1)(x)\n",
        "x = layers.Conv2D(filters=128, kernel_size=3, activation='relu')(x)\n",
        "x = layers.Flatten()(x)\n",
        "x = layers.Dense(256, activation='relu')(x)\n",
        "x = layers.Dropout(0.5)(x)\n",
        "cnn_output = layers.Dense(6, activation='softmax')(x)\n",
        "model_cnn_3 = keras.Model(inputs=cnn_input, outputs=cnn_output)"
      ],
      "metadata": {
        "id": "Ij-Rs9ztnaxx"
      },
      "execution_count": 39,
      "outputs": []
    },
    {
      "cell_type": "code",
      "source": [
        "model_cnn_3.summary()"
      ],
      "metadata": {
        "colab": {
          "base_uri": "https://localhost:8080/"
        },
        "id": "7ji5JHgapR8l",
        "outputId": "d27291b4-a033-4b60-e937-8df50609690d"
      },
      "execution_count": 40,
      "outputs": [
        {
          "output_type": "stream",
          "name": "stdout",
          "text": [
            "Model: \"model_2\"\n",
            "_________________________________________________________________\n",
            " Layer (type)                Output Shape              Param #   \n",
            "=================================================================\n",
            " input_3 (InputLayer)        [(None, 120, 120, 3)]     0         \n",
            "                                                                 \n",
            " rescaling_1 (Rescaling)     (None, 120, 120, 3)       0         \n",
            "                                                                 \n",
            " conv2d_5 (Conv2D)           (None, 118, 118, 16)      448       \n",
            "                                                                 \n",
            " batch_normalization_1 (Batc  (None, 118, 118, 16)     64        \n",
            " hNormalization)                                                 \n",
            "                                                                 \n",
            " max_pooling2d_4 (MaxPooling  (None, 59, 59, 16)       0         \n",
            " 2D)                                                             \n",
            "                                                                 \n",
            " dropout (Dropout)           (None, 59, 59, 16)        0         \n",
            "                                                                 \n",
            " conv2d_6 (Conv2D)           (None, 57, 57, 32)        4640      \n",
            "                                                                 \n",
            " max_pooling2d_5 (MaxPooling  (None, 28, 28, 32)       0         \n",
            " 2D)                                                             \n",
            "                                                                 \n",
            " dropout_1 (Dropout)         (None, 28, 28, 32)        0         \n",
            "                                                                 \n",
            " conv2d_7 (Conv2D)           (None, 26, 26, 64)        18496     \n",
            "                                                                 \n",
            " max_pooling2d_6 (MaxPooling  (None, 13, 13, 64)       0         \n",
            " 2D)                                                             \n",
            "                                                                 \n",
            " dropout_2 (Dropout)         (None, 13, 13, 64)        0         \n",
            "                                                                 \n",
            " conv2d_8 (Conv2D)           (None, 11, 11, 128)       73856     \n",
            "                                                                 \n",
            " flatten_4 (Flatten)         (None, 15488)             0         \n",
            "                                                                 \n",
            " dense_7 (Dense)             (None, 256)               3965184   \n",
            "                                                                 \n",
            " dropout_3 (Dropout)         (None, 256)               0         \n",
            "                                                                 \n",
            " dense_8 (Dense)             (None, 6)                 1542      \n",
            "                                                                 \n",
            "=================================================================\n",
            "Total params: 4,064,230\n",
            "Trainable params: 4,064,198\n",
            "Non-trainable params: 32\n",
            "_________________________________________________________________\n"
          ]
        }
      ]
    },
    {
      "cell_type": "code",
      "source": [
        "model_cnn_3.compile(\n",
        "    optimizer='rmsprop',\n",
        "    loss='categorical_crossentropy',\n",
        "    metrics=['accuracy']\n",
        ")\n",
        "\n",
        "history_cnn_3 = model_cnn_3.fit(train_set, epochs=default_epochs, validation_data=validation_set)"
      ],
      "metadata": {
        "colab": {
          "base_uri": "https://localhost:8080/"
        },
        "id": "QhGl7i5foxmV",
        "outputId": "89380c7e-97f4-4c44-ec92-6eddb71b0348"
      },
      "execution_count": 41,
      "outputs": [
        {
          "output_type": "stream",
          "name": "stdout",
          "text": [
            "Epoch 1/10\n",
            "358/358 [==============================] - 19s 50ms/step - loss: 0.8720 - accuracy: 0.6984 - val_loss: 0.8190 - val_accuracy: 0.7780\n",
            "Epoch 2/10\n",
            "358/358 [==============================] - 18s 50ms/step - loss: 0.2290 - accuracy: 0.9278 - val_loss: 0.1705 - val_accuracy: 0.9415\n",
            "Epoch 3/10\n",
            "358/358 [==============================] - 18s 51ms/step - loss: 0.1744 - accuracy: 0.9568 - val_loss: 0.9337 - val_accuracy: 0.8106\n",
            "Epoch 4/10\n",
            "358/358 [==============================] - 18s 51ms/step - loss: 0.1404 - accuracy: 0.9660 - val_loss: 0.2157 - val_accuracy: 0.9503\n",
            "Epoch 5/10\n",
            "358/358 [==============================] - 18s 51ms/step - loss: 0.1240 - accuracy: 0.9723 - val_loss: 0.1075 - val_accuracy: 0.9681\n",
            "Epoch 6/10\n",
            "358/358 [==============================] - 18s 50ms/step - loss: 0.1307 - accuracy: 0.9729 - val_loss: 1.9110 - val_accuracy: 0.8137\n",
            "Epoch 7/10\n",
            "358/358 [==============================] - 18s 50ms/step - loss: 0.1180 - accuracy: 0.9775 - val_loss: 0.0985 - val_accuracy: 0.9765\n",
            "Epoch 8/10\n",
            "358/358 [==============================] - 18s 50ms/step - loss: 0.1390 - accuracy: 0.9778 - val_loss: 0.2312 - val_accuracy: 0.9566\n",
            "Epoch 9/10\n",
            "358/358 [==============================] - 18s 51ms/step - loss: 0.1121 - accuracy: 0.9812 - val_loss: 0.1370 - val_accuracy: 0.9667\n",
            "Epoch 10/10\n",
            "358/358 [==============================] - 18s 50ms/step - loss: 0.1006 - accuracy: 0.9818 - val_loss: 0.2776 - val_accuracy: 0.9646\n"
          ]
        }
      ]
    },
    {
      "cell_type": "code",
      "source": [
        "hist_df(history_cnn_3)"
      ],
      "metadata": {
        "colab": {
          "base_uri": "https://localhost:8080/",
          "height": 363
        },
        "id": "iAAumCaso3-Q",
        "outputId": "64396328-66dd-4ba2-9312-55c5e535c740"
      },
      "execution_count": 42,
      "outputs": [
        {
          "output_type": "execute_result",
          "data": {
            "text/plain": [
              "       loss  accuracy  val_loss  val_accuracy\n",
              "0  0.872021  0.698372  0.818966      0.778011\n",
              "1  0.228956  0.927809  0.170532      0.941527\n",
              "2  0.174393  0.956773  0.933737      0.810574\n",
              "3  0.140405  0.966048  0.215700      0.950280\n",
              "4  0.123991  0.972349  0.107468      0.968137\n",
              "5  0.130700  0.972874  1.911027      0.813725\n",
              "6  0.118026  0.977511  0.098510      0.976541\n",
              "7  0.139039  0.977774  0.231186      0.956583\n",
              "8  0.112054  0.981187  0.137031      0.966737\n",
              "9  0.100585  0.981799  0.277600      0.964636"
            ],
            "text/html": [
              "\n",
              "  <div id=\"df-625e81f1-4d6c-4aed-ba16-d847c58ab255\">\n",
              "    <div class=\"colab-df-container\">\n",
              "      <div>\n",
              "<style scoped>\n",
              "    .dataframe tbody tr th:only-of-type {\n",
              "        vertical-align: middle;\n",
              "    }\n",
              "\n",
              "    .dataframe tbody tr th {\n",
              "        vertical-align: top;\n",
              "    }\n",
              "\n",
              "    .dataframe thead th {\n",
              "        text-align: right;\n",
              "    }\n",
              "</style>\n",
              "<table border=\"1\" class=\"dataframe\">\n",
              "  <thead>\n",
              "    <tr style=\"text-align: right;\">\n",
              "      <th></th>\n",
              "      <th>loss</th>\n",
              "      <th>accuracy</th>\n",
              "      <th>val_loss</th>\n",
              "      <th>val_accuracy</th>\n",
              "    </tr>\n",
              "  </thead>\n",
              "  <tbody>\n",
              "    <tr>\n",
              "      <th>0</th>\n",
              "      <td>0.872021</td>\n",
              "      <td>0.698372</td>\n",
              "      <td>0.818966</td>\n",
              "      <td>0.778011</td>\n",
              "    </tr>\n",
              "    <tr>\n",
              "      <th>1</th>\n",
              "      <td>0.228956</td>\n",
              "      <td>0.927809</td>\n",
              "      <td>0.170532</td>\n",
              "      <td>0.941527</td>\n",
              "    </tr>\n",
              "    <tr>\n",
              "      <th>2</th>\n",
              "      <td>0.174393</td>\n",
              "      <td>0.956773</td>\n",
              "      <td>0.933737</td>\n",
              "      <td>0.810574</td>\n",
              "    </tr>\n",
              "    <tr>\n",
              "      <th>3</th>\n",
              "      <td>0.140405</td>\n",
              "      <td>0.966048</td>\n",
              "      <td>0.215700</td>\n",
              "      <td>0.950280</td>\n",
              "    </tr>\n",
              "    <tr>\n",
              "      <th>4</th>\n",
              "      <td>0.123991</td>\n",
              "      <td>0.972349</td>\n",
              "      <td>0.107468</td>\n",
              "      <td>0.968137</td>\n",
              "    </tr>\n",
              "    <tr>\n",
              "      <th>5</th>\n",
              "      <td>0.130700</td>\n",
              "      <td>0.972874</td>\n",
              "      <td>1.911027</td>\n",
              "      <td>0.813725</td>\n",
              "    </tr>\n",
              "    <tr>\n",
              "      <th>6</th>\n",
              "      <td>0.118026</td>\n",
              "      <td>0.977511</td>\n",
              "      <td>0.098510</td>\n",
              "      <td>0.976541</td>\n",
              "    </tr>\n",
              "    <tr>\n",
              "      <th>7</th>\n",
              "      <td>0.139039</td>\n",
              "      <td>0.977774</td>\n",
              "      <td>0.231186</td>\n",
              "      <td>0.956583</td>\n",
              "    </tr>\n",
              "    <tr>\n",
              "      <th>8</th>\n",
              "      <td>0.112054</td>\n",
              "      <td>0.981187</td>\n",
              "      <td>0.137031</td>\n",
              "      <td>0.966737</td>\n",
              "    </tr>\n",
              "    <tr>\n",
              "      <th>9</th>\n",
              "      <td>0.100585</td>\n",
              "      <td>0.981799</td>\n",
              "      <td>0.277600</td>\n",
              "      <td>0.964636</td>\n",
              "    </tr>\n",
              "  </tbody>\n",
              "</table>\n",
              "</div>\n",
              "      <button class=\"colab-df-convert\" onclick=\"convertToInteractive('df-625e81f1-4d6c-4aed-ba16-d847c58ab255')\"\n",
              "              title=\"Convert this dataframe to an interactive table.\"\n",
              "              style=\"display:none;\">\n",
              "        \n",
              "  <svg xmlns=\"http://www.w3.org/2000/svg\" height=\"24px\"viewBox=\"0 0 24 24\"\n",
              "       width=\"24px\">\n",
              "    <path d=\"M0 0h24v24H0V0z\" fill=\"none\"/>\n",
              "    <path d=\"M18.56 5.44l.94 2.06.94-2.06 2.06-.94-2.06-.94-.94-2.06-.94 2.06-2.06.94zm-11 1L8.5 8.5l.94-2.06 2.06-.94-2.06-.94L8.5 2.5l-.94 2.06-2.06.94zm10 10l.94 2.06.94-2.06 2.06-.94-2.06-.94-.94-2.06-.94 2.06-2.06.94z\"/><path d=\"M17.41 7.96l-1.37-1.37c-.4-.4-.92-.59-1.43-.59-.52 0-1.04.2-1.43.59L10.3 9.45l-7.72 7.72c-.78.78-.78 2.05 0 2.83L4 21.41c.39.39.9.59 1.41.59.51 0 1.02-.2 1.41-.59l7.78-7.78 2.81-2.81c.8-.78.8-2.07 0-2.86zM5.41 20L4 18.59l7.72-7.72 1.47 1.35L5.41 20z\"/>\n",
              "  </svg>\n",
              "      </button>\n",
              "      \n",
              "  <style>\n",
              "    .colab-df-container {\n",
              "      display:flex;\n",
              "      flex-wrap:wrap;\n",
              "      gap: 12px;\n",
              "    }\n",
              "\n",
              "    .colab-df-convert {\n",
              "      background-color: #E8F0FE;\n",
              "      border: none;\n",
              "      border-radius: 50%;\n",
              "      cursor: pointer;\n",
              "      display: none;\n",
              "      fill: #1967D2;\n",
              "      height: 32px;\n",
              "      padding: 0 0 0 0;\n",
              "      width: 32px;\n",
              "    }\n",
              "\n",
              "    .colab-df-convert:hover {\n",
              "      background-color: #E2EBFA;\n",
              "      box-shadow: 0px 1px 2px rgba(60, 64, 67, 0.3), 0px 1px 3px 1px rgba(60, 64, 67, 0.15);\n",
              "      fill: #174EA6;\n",
              "    }\n",
              "\n",
              "    [theme=dark] .colab-df-convert {\n",
              "      background-color: #3B4455;\n",
              "      fill: #D2E3FC;\n",
              "    }\n",
              "\n",
              "    [theme=dark] .colab-df-convert:hover {\n",
              "      background-color: #434B5C;\n",
              "      box-shadow: 0px 1px 3px 1px rgba(0, 0, 0, 0.15);\n",
              "      filter: drop-shadow(0px 1px 2px rgba(0, 0, 0, 0.3));\n",
              "      fill: #FFFFFF;\n",
              "    }\n",
              "  </style>\n",
              "\n",
              "      <script>\n",
              "        const buttonEl =\n",
              "          document.querySelector('#df-625e81f1-4d6c-4aed-ba16-d847c58ab255 button.colab-df-convert');\n",
              "        buttonEl.style.display =\n",
              "          google.colab.kernel.accessAllowed ? 'block' : 'none';\n",
              "\n",
              "        async function convertToInteractive(key) {\n",
              "          const element = document.querySelector('#df-625e81f1-4d6c-4aed-ba16-d847c58ab255');\n",
              "          const dataTable =\n",
              "            await google.colab.kernel.invokeFunction('convertToInteractive',\n",
              "                                                     [key], {});\n",
              "          if (!dataTable) return;\n",
              "\n",
              "          const docLinkHtml = 'Like what you see? Visit the ' +\n",
              "            '<a target=\"_blank\" href=https://colab.research.google.com/notebooks/data_table.ipynb>data table notebook</a>'\n",
              "            + ' to learn more about interactive tables.';\n",
              "          element.innerHTML = '';\n",
              "          dataTable['output_type'] = 'display_data';\n",
              "          await google.colab.output.renderOutput(dataTable, element);\n",
              "          const docLink = document.createElement('div');\n",
              "          docLink.innerHTML = docLinkHtml;\n",
              "          element.appendChild(docLink);\n",
              "        }\n",
              "      </script>\n",
              "    </div>\n",
              "  </div>\n",
              "  "
            ]
          },
          "metadata": {},
          "execution_count": 42
        }
      ]
    },
    {
      "cell_type": "code",
      "source": [
        "train_mean_df(history_cnn_3)"
      ],
      "metadata": {
        "colab": {
          "base_uri": "https://localhost:8080/",
          "height": 192
        },
        "id": "YzXTleAxpW2o",
        "outputId": "f74bb458-a0f7-4ed7-8c48-17095c1746e2"
      },
      "execution_count": 43,
      "outputs": [
        {
          "output_type": "execute_result",
          "data": {
            "text/plain": [
              "<pandas.io.formats.style.Styler at 0x7f58ece9ec10>"
            ],
            "text/html": [
              "<style type=\"text/css\">\n",
              "</style>\n",
              "<table id=\"T_6db9f_\" class=\"dataframe\">\n",
              "  <caption>Training Mean</caption>\n",
              "  <thead>\n",
              "    <tr>\n",
              "      <th class=\"blank level0\" >&nbsp;</th>\n",
              "      <th class=\"col_heading level0 col0\" >Value</th>\n",
              "    </tr>\n",
              "  </thead>\n",
              "  <tbody>\n",
              "    <tr>\n",
              "      <th id=\"T_6db9f_level0_row0\" class=\"row_heading level0 row0\" >loss</th>\n",
              "      <td id=\"T_6db9f_row0_col0\" class=\"data row0 col0\" >0.214017</td>\n",
              "    </tr>\n",
              "    <tr>\n",
              "      <th id=\"T_6db9f_level0_row1\" class=\"row_heading level0 row1\" >accuracy</th>\n",
              "      <td id=\"T_6db9f_row1_col0\" class=\"data row1 col0\" >0.941250</td>\n",
              "    </tr>\n",
              "    <tr>\n",
              "      <th id=\"T_6db9f_level0_row2\" class=\"row_heading level0 row2\" >val_loss</th>\n",
              "      <td id=\"T_6db9f_row2_col0\" class=\"data row2 col0\" >0.490176</td>\n",
              "    </tr>\n",
              "    <tr>\n",
              "      <th id=\"T_6db9f_level0_row3\" class=\"row_heading level0 row3\" >val_accuracy</th>\n",
              "      <td id=\"T_6db9f_row3_col0\" class=\"data row3 col0\" >0.912675</td>\n",
              "    </tr>\n",
              "  </tbody>\n",
              "</table>\n"
            ]
          },
          "metadata": {},
          "execution_count": 43
        }
      ]
    },
    {
      "cell_type": "code",
      "source": [
        "plot_val(history_cnn_3)"
      ],
      "metadata": {
        "colab": {
          "base_uri": "https://localhost:8080/",
          "height": 297
        },
        "id": "2RahCACppYJA",
        "outputId": "58060786-c3c5-491d-9727-b02b36890822"
      },
      "execution_count": 44,
      "outputs": [
        {
          "output_type": "display_data",
          "data": {
            "text/plain": [
              "<Figure size 864x288 with 2 Axes>"
            ],
            "image/png": "[encoded data removed]"
          },
          "metadata": {
            "needs_background": "light"
          }
        }
      ]
    },
    {
      "cell_type": "code",
      "source": [
        "eval_cnn_3 = model_cnn_3.evaluate(test_set)"
      ],
      "metadata": {
        "colab": {
          "base_uri": "https://localhost:8080/"
        },
        "id": "TCeFMA3ypZJR",
        "outputId": "55b72f77-c46e-4599-c074-70a57994d06b"
      },
      "execution_count": 45,
      "outputs": [
        {
          "output_type": "stream",
          "name": "stdout",
          "text": [
            "66/66 [==============================] - 3s 34ms/step - loss: 1.0921 - accuracy: 0.9415\n"
          ]
        }
      ]
    },
    {
      "cell_type": "code",
      "source": [
        "eval_df(eval_cnn_3)"
      ],
      "metadata": {
        "colab": {
          "base_uri": "https://localhost:8080/",
          "height": 129
        },
        "id": "zA0u00TDpiFJ",
        "outputId": "a0cebf5b-b90d-46af-ad5a-c6385bf4a157"
      },
      "execution_count": 46,
      "outputs": [
        {
          "output_type": "execute_result",
          "data": {
            "text/plain": [
              "<pandas.io.formats.style.Styler at 0x7f58ecd15910>"
            ],
            "text/html": [
              "<style type=\"text/css\">\n",
              "</style>\n",
              "<table id=\"T_2a873_\" class=\"dataframe\">\n",
              "  <caption>Testing Metrics</caption>\n",
              "  <thead>\n",
              "    <tr>\n",
              "      <th class=\"blank level0\" >&nbsp;</th>\n",
              "      <th class=\"col_heading level0 col0\" >Value</th>\n",
              "    </tr>\n",
              "  </thead>\n",
              "  <tbody>\n",
              "    <tr>\n",
              "      <th id=\"T_2a873_level0_row0\" class=\"row_heading level0 row0\" >loss</th>\n",
              "      <td id=\"T_2a873_row0_col0\" class=\"data row0 col0\" >1.092065</td>\n",
              "    </tr>\n",
              "    <tr>\n",
              "      <th id=\"T_2a873_level0_row1\" class=\"row_heading level0 row1\" >accuracy</th>\n",
              "      <td id=\"T_2a873_row1_col0\" class=\"data row1 col0\" >0.941484</td>\n",
              "    </tr>\n",
              "  </tbody>\n",
              "</table>\n"
            ]
          },
          "metadata": {},
          "execution_count": 46
        }
      ]
    },
    {
      "cell_type": "markdown",
      "source": [
        "## Hyperparameter Tuning"
      ],
      "metadata": {
        "id": "woyAiZ1c0erz"
      }
    },
    {
      "cell_type": "code",
      "source": [
        "# model building function for hyperparameter tuning\n",
        "# code reused and modified from lecture, my coursework, and Deep Learning with Python textbook by François Chollet\n",
        "def build_model(hp):\n",
        "  # define hyperparameters to tune\n",
        "  filter_size = hp.Int(name='filter_size', min_value=1, max_value=2, step=1)\n",
        "  k_size = hp.Int(name='k_size', min_value=3, max_value=5, step=1)\n",
        "  conv_dropout_rate = hp.Float(name='conv_dropout_rate', min_value=0.1, max_value=0.2, step=0.1)\n",
        "  dense_dropout_rate = hp.Float(name='dense_dropout_rate', min_value=0.1, max_value=0.2, step=0.1)\n",
        "\n",
        "  # build model using selected hyperparameters\n",
        "  cnn_input = keras.Input(shape=(120, 120, 3))\n",
        "  x = layers.Rescaling(1./255)(cnn_input)\n",
        "  x = layers.Conv2D(filters=(16*filter_size), kernel_size=k_size, activation='relu')(x)\n",
        "  x = layers.BatchNormalization()(x)\n",
        "  x = layers.MaxPooling2D(pool_size=2)(x)\n",
        "  x = layers.Dropout(conv_dropout_rate)(x)\n",
        "  x = layers.Conv2D(filters=(32*filter_size), kernel_size=k_size, activation='relu')(x)\n",
        "  x = layers.MaxPooling2D(pool_size=2)(x)\n",
        "  x = layers.Dropout(conv_dropout_rate)(x)\n",
        "  x = layers.Conv2D(filters=(64*filter_size), kernel_size=k_size, activation='relu')(x)\n",
        "  x = layers.MaxPooling2D(pool_size=2)(x)\n",
        "  x = layers.Dropout(conv_dropout_rate)(x)\n",
        "  x = layers.Conv2D(filters=128, kernel_size=3, activation='relu')(x)\n",
        "  x = layers.Flatten()(x)\n",
        "  x = layers.Dense(256, activation='relu')(x)\n",
        "  x = layers.Dropout(dense_dropout_rate)(x)\n",
        "  cnn_output = layers.Dense(6, activation='softmax')(x)\n",
        "  model = keras.Model(inputs=cnn_input, outputs=cnn_output)\n",
        "\n",
        "  # compile model\n",
        "  model.compile(\n",
        "      optimizer='rmsprop',\n",
        "      loss='categorical_crossentropy',\n",
        "      metrics=['accuracy']\n",
        "  )\n",
        "\n",
        "  return model"
      ],
      "metadata": {
        "id": "PyyUMIfQpktI"
      },
      "execution_count": 47,
      "outputs": []
    },
    {
      "cell_type": "code",
      "source": [
        "# code reused and modified from lecture, my coursework, and Deep Learning with Python textbook by François Chollet\n",
        "import keras_tuner as kt\n",
        "\n",
        "tuner = kt.BayesianOptimization(\n",
        "    build_model,\n",
        "    objective='val_accuracy',\n",
        "    max_trials=10,\n",
        "    executions_per_trial=1,\n",
        "    overwrite=True\n",
        ")"
      ],
      "metadata": {
        "id": "1Cje99NY3jfZ"
      },
      "execution_count": 48,
      "outputs": []
    },
    {
      "cell_type": "code",
      "source": [
        "tuner.search_space_summary()"
      ],
      "metadata": {
        "colab": {
          "base_uri": "https://localhost:8080/"
        },
        "id": "YDrabETq3zq5",
        "outputId": "732e0e4e-db4d-428f-d250-1856476515b1"
      },
      "execution_count": 49,
      "outputs": [
        {
          "output_type": "stream",
          "name": "stdout",
          "text": [
            "Search space summary\n",
            "Default search space size: 4\n",
            "filter_size (Int)\n",
            "{'default': None, 'conditions': [], 'min_value': 1, 'max_value': 2, 'step': 1, 'sampling': None}\n",
            "k_size (Int)\n",
            "{'default': None, 'conditions': [], 'min_value': 3, 'max_value': 5, 'step': 1, 'sampling': None}\n",
            "conv_dropout_rate (Float)\n",
            "{'default': 0.1, 'conditions': [], 'min_value': 0.1, 'max_value': 0.2, 'step': 0.1, 'sampling': None}\n",
            "dense_dropout_rate (Float)\n",
            "{'default': 0.1, 'conditions': [], 'min_value': 0.1, 'max_value': 0.2, 'step': 0.1, 'sampling': None}\n"
          ]
        }
      ]
    },
    {
      "cell_type": "code",
      "source": [
        "# EarlyStopping callback to stop training a particular hyperparameter configuration when it begins to overfit\n",
        "callbacks = [\n",
        "    keras.callbacks.EarlyStopping(monitor=\"val_loss\", patience=5)\n",
        "]"
      ],
      "metadata": {
        "id": "rvYQ6dMM34bS"
      },
      "execution_count": 50,
      "outputs": []
    },
    {
      "cell_type": "code",
      "source": [
        "# code reused and modified from lecture, my coursework, and Deep Learning with Python textbook by François Chollet\n",
        "tuner.search(\n",
        "    train_set,\n",
        "    epochs=default_epochs,\n",
        "    validation_data=validation_set,\n",
        "    callbacks=callbacks,\n",
        "    verbose=2\n",
        ")"
      ],
      "metadata": {
        "colab": {
          "base_uri": "https://localhost:8080/"
        },
        "id": "aqBoWAVY4E7J",
        "outputId": "81a991f7-216d-4d6a-fd2f-6e41db10725a"
      },
      "execution_count": 51,
      "outputs": [
        {
          "output_type": "stream",
          "name": "stdout",
          "text": [
            "Trial 20 Complete [00h 03m 45s]\n",
            "val_accuracy: 0.9887955188751221\n",
            "\n",
            "Best val_accuracy So Far: 0.9978991746902466\n",
            "Total elapsed time: 01h 02m 05s\n"
          ]
        }
      ]
    },
    {
      "cell_type": "code",
      "source": [
        "best_hyperparameters = tuner.get_best_hyperparameters(1)\n",
        "best_hyperparameters[0].values"
      ],
      "metadata": {
        "colab": {
          "base_uri": "https://localhost:8080/"
        },
        "id": "wt7esqck4aCR",
        "outputId": "f9416e24-b8ff-4b37-be87-ba1f2f1f01a5"
      },
      "execution_count": 52,
      "outputs": [
        {
          "output_type": "execute_result",
          "data": {
            "text/plain": [
              "{'filter_size': 1,\n",
              " 'k_size': 3,\n",
              " 'conv_dropout_rate': 0.2,\n",
              " 'dense_dropout_rate': 0.1}"
            ]
          },
          "metadata": {},
          "execution_count": 52
        }
      ]
    },
    {
      "cell_type": "code",
      "source": [
        "# get best number of epochs based on best hyperparameters\n",
        "# code reused and modified from lecture, my coursework, and Deep Learning with Python textbook by François Chollet\n",
        "def get_best_epoch(hp):\n",
        "  model = build_model(hp)\n",
        "  callbacks=[\n",
        "      keras.callbacks.EarlyStopping(\n",
        "          monitor='val_loss', mode='min', patience=10)\n",
        "  ]\n",
        "  history_best = model.fit(\n",
        "      train_set,\n",
        "      validation_data=validation_set,\n",
        "      epochs=10,\n",
        "      callbacks=callbacks)\n",
        "  val_loss_per_epoch = history_best.history['val_loss']\n",
        "  best_epoch = val_loss_per_epoch.index(min(val_loss_per_epoch)) + 1\n",
        "  print(f\"Best epoch: {best_epoch}\")\n",
        "  return best_epoch"
      ],
      "metadata": {
        "id": "ZZMaxSUUNg4g"
      },
      "execution_count": 53,
      "outputs": []
    },
    {
      "cell_type": "code",
      "source": [
        "# generate full training dataset\n",
        "train_set_full = image_dataset_from_directory(\n",
        "    '/content/dice/train',\n",
        "    image_size=(120, 120),\n",
        "    batch_size=32,\n",
        "    label_mode='categorical',\n",
        "    seed=37842\n",
        ")"
      ],
      "metadata": {
        "colab": {
          "base_uri": "https://localhost:8080/"
        },
        "id": "P-dci6XZOWmG",
        "outputId": "0b8a5aba-9a59-4930-f211-6c376b2c4f05"
      },
      "execution_count": 54,
      "outputs": [
        {
          "output_type": "stream",
          "name": "stdout",
          "text": [
            "Found 14284 files belonging to 6 classes.\n"
          ]
        }
      ]
    },
    {
      "cell_type": "code",
      "source": [
        "# train on the full dataset\n",
        "# code reused and modified from lecture, my coursework, and Deep Learning with Python textbook by François Chollet\n",
        "def get_best_trained_model(hp):\n",
        "  best_epoch = get_best_epoch(hp)\n",
        "  model = build_model(hp)\n",
        "  model.fit(\n",
        "      train_set_full,\n",
        "      epochs=int(best_epoch * 1.2))\n",
        "  return model"
      ],
      "metadata": {
        "id": "3RPP2mn0OCMr"
      },
      "execution_count": 55,
      "outputs": []
    },
    {
      "cell_type": "code",
      "source": [
        "# determine optimal numebr of epochs, then train final model on entire training dataset\n",
        "best_model = get_best_trained_model(best_hyperparameters[0])"
      ],
      "metadata": {
        "colab": {
          "base_uri": "https://localhost:8080/"
        },
        "id": "xhEyTXZKOpQg",
        "outputId": "c8e77788-60ce-4133-ab56-1c2934236ea5"
      },
      "execution_count": 56,
      "outputs": [
        {
          "output_type": "stream",
          "name": "stdout",
          "text": [
            "Epoch 1/10\n",
            "358/358 [==============================] - 23s 59ms/step - loss: 0.9978 - accuracy: 0.6633 - val_loss: 1.0584 - val_accuracy: 0.6513\n",
            "Epoch 2/10\n",
            "358/358 [==============================] - 20s 55ms/step - loss: 0.2113 - accuracy: 0.9317 - val_loss: 0.2478 - val_accuracy: 0.9289\n",
            "Epoch 3/10\n",
            "358/358 [==============================] - 19s 53ms/step - loss: 0.1223 - accuracy: 0.9651 - val_loss: 0.5699 - val_accuracy: 0.8613\n",
            "Epoch 4/10\n",
            "358/358 [==============================] - 21s 57ms/step - loss: 0.0992 - accuracy: 0.9751 - val_loss: 0.9301 - val_accuracy: 0.8561\n",
            "Epoch 5/10\n",
            "358/358 [==============================] - 21s 57ms/step - loss: 0.0933 - accuracy: 0.9790 - val_loss: 0.0706 - val_accuracy: 0.9804\n",
            "Epoch 6/10\n",
            "358/358 [==============================] - 20s 56ms/step - loss: 0.0770 - accuracy: 0.9844 - val_loss: 0.4670 - val_accuracy: 0.9118\n",
            "Epoch 7/10\n",
            "358/358 [==============================] - 20s 56ms/step - loss: 0.0715 - accuracy: 0.9851 - val_loss: 0.2011 - val_accuracy: 0.9632\n",
            "Epoch 8/10\n",
            "358/358 [==============================] - 21s 57ms/step - loss: 0.0743 - accuracy: 0.9863 - val_loss: 0.3947 - val_accuracy: 0.9520\n",
            "Epoch 9/10\n",
            "358/358 [==============================] - 20s 56ms/step - loss: 0.0754 - accuracy: 0.9869 - val_loss: 1.2262 - val_accuracy: 0.8890\n",
            "Epoch 10/10\n",
            "358/358 [==============================] - 20s 55ms/step - loss: 0.0675 - accuracy: 0.9898 - val_loss: 0.8894 - val_accuracy: 0.8775\n",
            "Best epoch: 5\n",
            "Epoch 1/6\n",
            "447/447 [==============================] - 22s 46ms/step - loss: 0.8275 - accuracy: 0.7147\n",
            "Epoch 2/6\n",
            "447/447 [==============================] - 20s 45ms/step - loss: 0.1811 - accuracy: 0.9428\n",
            "Epoch 3/6\n",
            "447/447 [==============================] - 20s 45ms/step - loss: 0.1204 - accuracy: 0.9690\n",
            "Epoch 4/6\n",
            "447/447 [==============================] - 20s 45ms/step - loss: 0.0907 - accuracy: 0.9772\n",
            "Epoch 5/6\n",
            "447/447 [==============================] - 20s 45ms/step - loss: 0.0834 - accuracy: 0.9823\n",
            "Epoch 6/6\n",
            "447/447 [==============================] - 20s 45ms/step - loss: 0.0840 - accuracy: 0.9859\n"
          ]
        }
      ]
    },
    {
      "cell_type": "code",
      "source": [
        "best_model_eval = best_model.evaluate(test_set)"
      ],
      "metadata": {
        "colab": {
          "base_uri": "https://localhost:8080/"
        },
        "id": "451Qu0I3OvvQ",
        "outputId": "76e0b783-c77b-4085-ed89-78e23d34828a"
      },
      "execution_count": 57,
      "outputs": [
        {
          "output_type": "stream",
          "name": "stdout",
          "text": [
            "66/66 [==============================] - 3s 37ms/step - loss: 1.7181 - accuracy: 0.9539\n"
          ]
        }
      ]
    },
    {
      "cell_type": "code",
      "source": [
        "eval_df(best_model_eval)"
      ],
      "metadata": {
        "colab": {
          "base_uri": "https://localhost:8080/",
          "height": 129
        },
        "id": "1jboxappQYnI",
        "outputId": "b5ab6e35-47c2-4c34-fad9-1de7ceafc304"
      },
      "execution_count": 58,
      "outputs": [
        {
          "output_type": "execute_result",
          "data": {
            "text/plain": [
              "<pandas.io.formats.style.Styler at 0x7f58e7479650>"
            ],
            "text/html": [
              "<style type=\"text/css\">\n",
              "</style>\n",
              "<table id=\"T_9251b_\" class=\"dataframe\">\n",
              "  <caption>Testing Metrics</caption>\n",
              "  <thead>\n",
              "    <tr>\n",
              "      <th class=\"blank level0\" >&nbsp;</th>\n",
              "      <th class=\"col_heading level0 col0\" >Value</th>\n",
              "    </tr>\n",
              "  </thead>\n",
              "  <tbody>\n",
              "    <tr>\n",
              "      <th id=\"T_9251b_level0_row0\" class=\"row_heading level0 row0\" >loss</th>\n",
              "      <td id=\"T_9251b_row0_col0\" class=\"data row0 col0\" >1.718148</td>\n",
              "    </tr>\n",
              "    <tr>\n",
              "      <th id=\"T_9251b_level0_row1\" class=\"row_heading level0 row1\" >accuracy</th>\n",
              "      <td id=\"T_9251b_row1_col0\" class=\"data row1 col0\" >0.953853</td>\n",
              "    </tr>\n",
              "  </tbody>\n",
              "</table>\n"
            ]
          },
          "metadata": {},
          "execution_count": 58
        }
      ]
    },
    {
      "cell_type": "code",
      "source": [
        "best_model.save('saved_model')"
      ],
      "metadata": {
        "id": "vqolXfYWQhin"
      },
      "execution_count": 60,
      "outputs": []
    },
    {
      "cell_type": "code",
      "source": [],
      "metadata": {
        "id": "aBKKusYhQ2y5"
      },
      "execution_count": null,
      "outputs": []
    }
  ]
}